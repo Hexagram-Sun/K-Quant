{
 "cells": [
  {
   "cell_type": "markdown",
   "id": "ff5ebcc4",
   "metadata": {},
   "source": [
    "# Construct homogeneous stock graph using HiDy "
   ]
  },
  {
   "cell_type": "code",
   "execution_count": 2,
   "id": "b9a9539a",
   "metadata": {},
   "outputs": [],
   "source": [
    "import os\n",
    "import sys\n",
    "sys.path.append('..')\n",
    "import FinNeo \n",
    "import re\n",
    "from tqdm import tqdm"
   ]
  },
  {
   "cell_type": "markdown",
   "id": "16e389d8",
   "metadata": {},
   "source": [
    "## Connect to remote KB"
   ]
  },
  {
   "cell_type": "code",
   "execution_count": 3,
   "id": "c5104c8b",
   "metadata": {},
   "outputs": [],
   "source": [
    "fintech = FinNeo.FinNeo(url=\"bolt://143.89.126.57:5001\", user='neo4j', pwd='csproject')"
   ]
  },
  {
   "cell_type": "markdown",
   "id": "21c206b2",
   "metadata": {},
   "source": [
    "## Load stock list"
   ]
  },
  {
   "cell_type": "code",
   "execution_count": 7,
   "id": "9cb1f093",
   "metadata": {},
   "outputs": [],
   "source": [
    "path = '../../Data/csi300_stock_codes_22.txt'\n",
    "with open(path,'r') as file:\n",
    "    content = file.readlines()\n",
    "csi = [line.strip() for line in content]\n",
    "all_num_dict = [re.sub(\"[^0-9]\", \"\", x) for x in csi]"
   ]
  },
  {
   "cell_type": "markdown",
   "id": "c3d44108",
   "metadata": {},
   "source": [
    "## 3-level SW Industry "
   ]
  },
  {
   "cell_type": "code",
   "execution_count": null,
   "id": "462c03ae",
   "metadata": {},
   "outputs": [],
   "source": [
    "#SW have 3 level industry\n",
    "\n",
    "# SW level 1\n",
    "SW_set_L1 = []\n",
    "for i in tqdm(all_num_dict):\n",
    "    query = 'match (n:company) -[r1]- (i:SW_industry) -[r2]- (c:company) where n.code contains \\''+i+'\\' return c.code as code '\n",
    "    node = fintech.get_read_query(query)\n",
    "    node = pd.DataFrame([dict(record) for record in node])\n",
    "    node.replace('', np.nan, inplace=True)\n",
    "    node = node.dropna().drop_duplicates()\n",
    "    node = node.values.tolist()\n",
    "    node = [x[0] for x in node]\n",
    "    for n in node:\n",
    "        if re.sub(\"[^0-9]\", \"\", n) in all_num_dict:\n",
    "            SW_set_L1.append([i,re.sub(\"[^0-9]\", \"\", n) ])\n",
    "            \n",
    "# SW level 2      \n",
    "SW_set_L2 = []\n",
    "for i in tqdm(all_num_dict):\n",
    "    query = 'match (n:company)-[r1]-(i1:SW_industry)-[r2]-(i2:SW_industry)-[r3]-(i3:SW_industry)-[r4]-(c:company) where n.code contains \\''+i+'\\' return c.code as code '\n",
    "    node = fintech.get_read_query(query)\n",
    "    node = pd.DataFrame([dict(record) for record in node])\n",
    "    node.replace('', np.nan, inplace=True)\n",
    "    node = node.dropna().drop_duplicates()\n",
    "    node = node.values.tolist()\n",
    "    node = [x[0] for x in node]\n",
    "    for n in node:\n",
    "        if re.sub(\"[^0-9]\", \"\", n) in all_num_dict:\n",
    "            SW_set_L2.append([i,re.sub(\"[^0-9]\", \"\", n) ])\n",
    "\n",
    "# SW level 3\n",
    "SW_set_L3 = []\n",
    "for i in tqdm(all_num_dict):\n",
    "    query = 'match (n:company)-[r1]-(i1:SW_industry)-[r2]-(i2:SW_industry)-[r3]-(i3:SW_industry)-[r4]-(i4:SW_industry)-[r5]-(i5:SW_industry)-[r6]-(c:company) where n.code contains \\''+i+'\\' return c.code as code '\n",
    "    node = fintech.get_read_query(query)\n",
    "    node = pd.DataFrame([dict(record) for record in node])\n",
    "    node.replace('', np.nan, inplace=True)\n",
    "    node = node.dropna().drop_duplicates()\n",
    "    node = node.values.tolist()\n",
    "    node = [x[0] for x in node]\n",
    "    for n in node:\n",
    "        if re.sub(\"[^0-9]\", \"\", n) in all_num_dict:\n",
    "            SW_set_L3.append([i,re.sub(\"[^0-9]\", \"\", n) ])\n"
   ]
  },
  {
   "cell_type": "markdown",
   "id": "242c8384",
   "metadata": {},
   "source": [
    "##  Get dynamic relation"
   ]
  },
  {
   "cell_type": "code",
   "execution_count": null,
   "id": "0b18dda2",
   "metadata": {},
   "outputs": [],
   "source": [
    "query = 'match (n:company)-[r1]-(c:company) return r1'\n",
    "node = fintech.get_read_query(query)\n",
    "node = pd.DataFrame([dict(record) for record in node])\n",
    "node.replace('', np.nan, inplace=True)\n",
    "node = node.dropna().drop_duplicates()\n",
    "node = node.values.tolist()\n",
    "node = [re.findall(r'type=\\'(.*?)\\'', str(x[0])) for x in node]\n",
    "node = [x[0] for x in node]\n",
    "relation_type = list(set(node))"
   ]
  },
  {
   "cell_type": "code",
   "execution_count": null,
   "id": "f9939f5f",
   "metadata": {},
   "outputs": [],
   "source": [
    "relation_type\n",
    "dyset=[] \n",
    "for relation in relation_type:\n",
    "    temp_set = []\n",
    "    for i in tqdm(all_num_dict):\n",
    "        query = 'match (n:company)-[r1:'+relation+']-(c:company) where n.code contains \\''+i+'\\' return c.code as code, r1.time as time '\n",
    "        node = fintech.get_read_query(query)\n",
    "        node = pd.DataFrame([dict(record) for record in node])\n",
    "        node.replace('', np.nan, inplace=True)\n",
    "        node = node.dropna().drop_duplicates()\n",
    "        node = node.values.tolist()\n",
    "        for n in node:\n",
    "            if re.sub(\"[^0-9]\", \"\", n[0]) in all_num_dict:\n",
    "                temp_set.append([i,re.sub(\"[^0-9]\", \"\", n[0]), n[1],relation])\n",
    "        \n",
    "    dyset.append(temp_set)\n",
    "        "
   ]
  },
  {
   "cell_type": "markdown",
   "id": "6ff31d32",
   "metadata": {},
   "source": [
    "## Data preprocess "
   ]
  },
  {
   "cell_type": "code",
   "execution_count": null,
   "id": "00bd2047",
   "metadata": {},
   "outputs": [],
   "source": [
    "def add_SH_SZ(value):\n",
    "    if str(value).startswith('6'):\n",
    "        return 'SH'+str(value)\n",
    "    else:\n",
    "        return \"SZ\" + str(value)"
   ]
  },
  {
   "cell_type": "code",
   "execution_count": null,
   "id": "5ef60b6d",
   "metadata": {},
   "outputs": [],
   "source": [
    "SW_new_csi = SW_set_L1 + SW_set_L2 + SW_set_L3\n",
    "SW_new_csi = pd.DataFrame(SW_new_csi,columns=[\"e1\",\"e2\"])\n",
    "SW_new_csi['r'] = 'SW_industry'"
   ]
  },
  {
   "cell_type": "code",
   "execution_count": null,
   "id": "60e1d5c0",
   "metadata": {},
   "outputs": [],
   "source": [
    "merged = []\n",
    "for i in dyset:\n",
    "    merged.extend(i)\n",
    "dy_df = pd.DataFrame(merged,columns=[\"e1\",\"e2\",\"time\",'r'])\n",
    "dy_df['time'] = pd.to_datetime(dy_df['time'])  # 将'time'列转换为DatetimeIndex类型\n",
    "dy_df = dy_df.sort_values('time')"
   ]
  },
  {
   "cell_type": "code",
   "execution_count": null,
   "id": "e416a07d",
   "metadata": {},
   "outputs": [],
   "source": [
    "SW_new_csi['e1'] = SW_new_csi['e1'].astype(str).str.zfill(6)\n",
    "SW_new_csi['e2'] = SW_new_csi['e2'].astype(str).str.zfill(6)\n",
    "SW_new_csi['e1'] = SW_new_csi['e1'].apply(add_SH_SZ)\n",
    "SW_new_csi['e2'] = SW_new_csi['e2'].apply(add_SH_SZ)\n",
    "\n",
    "dy_df['e1'] = dy_df['e1'].astype(str).str.zfill(6)\n",
    "dy_df['e2'] = dy_df['e2'].astype(str).str.zfill(6)\n",
    "dy_df['e1'] = dy_df['e1'].apply(add_SH_SZ)\n",
    "dy_df['e2'] = dy_df['e2'].apply(add_SH_SZ)"
   ]
  },
  {
   "cell_type": "code",
   "execution_count": null,
   "id": "720dfdc5",
   "metadata": {},
   "outputs": [],
   "source": [
    "SW_new_csi = SW_new_csi.drop_duplicates()\n",
    "dy_df = dy_df.drop_duplicates()"
   ]
  },
  {
   "cell_type": "code",
   "execution_count": null,
   "id": "82ced955",
   "metadata": {},
   "outputs": [],
   "source": [
    "df.to_csv('../../Data/csi22_dytuple.csv')\n",
    "SW_new_csi.to_csv('../../Data/csi22_SW.csv')"
   ]
  }
 ],
 "metadata": {
  "kernelspec": {
   "display_name": "fintech38",
   "language": "python",
   "name": "fintech38"
  },
  "language_info": {
   "codemirror_mode": {
    "name": "ipython",
    "version": 3
   },
   "file_extension": ".py",
   "mimetype": "text/x-python",
   "name": "python",
   "nbconvert_exporter": "python",
   "pygments_lexer": "ipython3",
   "version": "3.8.16"
  }
 },
 "nbformat": 4,
 "nbformat_minor": 5
}
