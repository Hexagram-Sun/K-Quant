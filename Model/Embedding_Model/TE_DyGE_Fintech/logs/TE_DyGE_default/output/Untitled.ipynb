{
 "cells": [
  {
   "cell_type": "code",
   "execution_count": 15,
   "id": "101ff8f9",
   "metadata": {},
   "outputs": [],
   "source": [
    "import numpy as np\n",
    "import glob\n",
    "import pandas as pd\n",
    "import json"
   ]
  },
  {
   "cell_type": "code",
   "execution_count": 24,
   "id": "236a3c73",
   "metadata": {},
   "outputs": [],
   "source": [
    "npz_data = np.load('default_embs_Enron_new_0.npz')"
   ]
  },
  {
   "cell_type": "code",
   "execution_count": 10,
   "id": "99ce1e22",
   "metadata": {},
   "outputs": [],
   "source": [
    "npz_data_fin = np.load('default_embs_FinKG_2.npz')"
   ]
  },
  {
   "cell_type": "code",
   "execution_count": 25,
   "id": "b485c44b",
   "metadata": {},
   "outputs": [
    {
     "data": {
      "text/plain": [
       "23"
      ]
     },
     "execution_count": 25,
     "metadata": {},
     "output_type": "execute_result"
    }
   ],
   "source": [
    "len(npz_data['data'])"
   ]
  },
  {
   "cell_type": "code",
   "execution_count": 21,
   "id": "0ccda2d4",
   "metadata": {},
   "outputs": [],
   "source": [
    "with open('../../../stock2id3.json', 'rb') as f:\n",
    "    loaded_data = json.load(f)\n"
   ]
  },
  {
   "cell_type": "code",
   "execution_count": 22,
   "id": "f510d1fe",
   "metadata": {},
   "outputs": [
    {
     "data": {
      "text/plain": [
       "258"
      ]
     },
     "execution_count": 22,
     "metadata": {},
     "output_type": "execute_result"
    }
   ],
   "source": [
    "len(loaded_data)"
   ]
  },
  {
   "cell_type": "code",
   "execution_count": null,
   "id": "caf6cf63",
   "metadata": {},
   "outputs": [],
   "source": [
    "file_paths = glob.glob('*default_embs_Enron_new_*.npz')  # 将\"文件夹路径\"替换为你的实际文件夹路径\n",
    "\n",
    "# Read data from each pkl file\n",
    "data = {}\n",
    "for i, file_path in enumerate(file_paths):\n",
    "    npz_data = np.load(file_path)\n",
    "    data[f'kgeef{i}'] = npz_data['embeddings']\n"
   ]
  }
 ],
 "metadata": {
  "kernelspec": {
   "display_name": "dysat",
   "language": "python",
   "name": "dysat"
  },
  "language_info": {
   "codemirror_mode": {
    "name": "ipython",
    "version": 3
   },
   "file_extension": ".py",
   "mimetype": "text/x-python",
   "name": "python",
   "nbconvert_exporter": "python",
   "pygments_lexer": "ipython3",
   "version": "3.7.13"
  }
 },
 "nbformat": 4,
 "nbformat_minor": 5
}
