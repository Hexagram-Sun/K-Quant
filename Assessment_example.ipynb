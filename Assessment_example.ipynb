{
 "cells": [
  {
   "cell_type": "code",
   "execution_count": 1,
   "id": "96b76cc1-89ec-4851-ab5f-9a411c59c45b",
   "metadata": {},
   "outputs": [
    {
     "name": "stderr",
     "output_type": "stream",
     "text": [
      "D:\\ProgramFiles\\Miniconda\\envs\\qlib\\lib\\site-packages\\numpy\\_distributor_init.py:30: UserWarning: loaded more than 1 DLL from .libs:\n",
      "D:\\ProgramFiles\\Miniconda\\envs\\qlib\\lib\\site-packages\\numpy\\.libs\\libopenblas.FB5AE2TYXYH2IJRDKGDGQ3XBKLKTF43H.gfortran-win_amd64.dll\n",
      "D:\\ProgramFiles\\Miniconda\\envs\\qlib\\lib\\site-packages\\numpy\\.libs\\libopenblas64__v0.3.21-gcc_10_3_0.dll\n",
      "  warnings.warn(\"loaded more than 1 DLL from .libs:\"\n"
     ]
    }
   ],
   "source": [
    "from Assessment.Credibility_assessment import run_credibility_assessment\n",
    "from Assessment.Performance_assessment import run_performance_assessment\n",
    "from Assessment.run_assessment import prepare_data_and_model, test_get_stocks_recommendation\n",
    "from Assessment.utils import parse_args, normalize_assessment_results_list"
   ]
  },
  {
   "cell_type": "code",
   "execution_count": 2,
   "id": "ab3b2aaf-a76d-4904-b6ae-d1c8c6347e56",
   "metadata": {},
   "outputs": [],
   "source": [
    "import argparse\n",
    "from Assessment.utils import ParseConfigFile\n",
    "import sys\n",
    "def parse_args():\n",
    "    parser = argparse.ArgumentParser()\n",
    "\n",
    "    # model\n",
    "    parser.add_argument('--model_name', default='relation_GATs')\n",
    "    parser.add_argument('--model_path', default='D:\\Research\\Fintech\\K-Quant\\parameter')\n",
    "    parser.add_argument('--num_relation', type= int, default=134)\n",
    "    parser.add_argument('--d_feat', type=int, default=6)\n",
    "    parser.add_argument('--hidden_size', type=int, default=128)\n",
    "    parser.add_argument('--num_layers', type=int, default=2)\n",
    "    parser.add_argument('--dropout', type=float, default=0.1)\n",
    "    parser.add_argument('--K', type=int, default=1)\n",
    "    parser.add_argument('--loss_type', default='')\n",
    "    parser.add_argument('--config', action=ParseConfigFile, default='')\n",
    "    # for ts lib model\n",
    "    parser.add_argument('--seq_len', type=int, default=60)\n",
    "    parser.add_argument('--moving_avg', type=int, default=21)\n",
    "    parser.add_argument('--output_attention', action='store_true', help='whether to output attention in ecoder')\n",
    "    parser.add_argument('--embed', type=str, default='timeF',\n",
    "                        help='time features encoding, options:[timeF, fixed, learned]')\n",
    "    parser.add_argument('--freq', type=str, default='b',\n",
    "                        help='freq for time features encoding, options:[s:secondly, t:minutely, h:hourly, d:daily, b:business days, w:weekly, m:monthly], you can also use more detailed freq like 15min or 3h')\n",
    "    parser.add_argument('--distil', action='store_false',\n",
    "                        help='whether to use distilling in encoder, using this argument means not using distilling',\n",
    "                        default=False)\n",
    "    parser.add_argument('--factor', type=int, default=1, help='attn factor')\n",
    "    parser.add_argument('--n_heads', type=int, default=1, help='num of heads')\n",
    "    parser.add_argument('--d_ff', type=int, default=64, help='dimension of fcn')\n",
    "    parser.add_argument('--activation', type=str, default='gelu', help='activation')\n",
    "    parser.add_argument('--e_layers', type=int, default=8, help='num of encoder layers')\n",
    "    parser.add_argument('--top_k', type=int, default=5, help='for TimesBlock')\n",
    "    parser.add_argument('--pred_len', type=int, default=-1, help='the length of pred squence, in regression set to -1')\n",
    "    parser.add_argument('--de_norm', default=True, help='de normalize or not')\n",
    "\n",
    "    # data\n",
    "    parser.add_argument('--data_set', type=str, default='csi360')\n",
    "    parser.add_argument('--target', type=str, default='t+0')\n",
    "    parser.add_argument('--pin_memory', action='store_false', default=True)\n",
    "    parser.add_argument('--batch_size', type=int, default=-1)  # -1 indicate daily batch\n",
    "    parser.add_argument('--least_samples_num', type=float, default=1137.0)\n",
    "    parser.add_argument('--label', default='')  # specify other labels\n",
    "    parser.add_argument('--start_date', default='2019-01-01')\n",
    "    parser.add_argument('--end_date', default='2019-01-05')\n",
    "\n",
    "    # input for csi 300\n",
    "    parser.add_argument('--data_root', default='D:\\Research\\Fintech\\K-Quant\\Data')\n",
    "    parser.add_argument('--market_value_path', default= 'D:\\Research\\Fintech\\K-Quant\\Data\\csi300_market_value_07to20.pkl')\n",
    "\n",
    "    parser.add_argument('--stock2concept_matrix', default='D:\\ProjectCodes\\K-Quant\\Data\\csi300_stock2concept.npy')\n",
    "\n",
    "\n",
    "    parser.add_argument('--stock2stock_matrix', default='D:\\Research\\Fintech\\K-Quant\\Data\\csi300_multi_stock2stock_hidy_2024.npy')\n",
    "    parser.add_argument('--stock_index', default='D:\\Research\\Fintech\\K-Quant\\Data\\csi300_stock_index_2024.npy')\n",
    "    parser.add_argument('--model_dir', default='D:\\Research\\Fintech\\K-Quant\\parameter')\n",
    "    parser.add_argument('--overwrite', action='store_true', default=False)\n",
    "    parser.add_argument('--device', default='cpu')\n",
    "    filtered_args = [arg for arg in sys.argv if not arg.startswith('-f') and not arg.endswith('.json')]\n",
    "    args = parser.parse_args(filtered_args[1:])  # Skip the script name\n",
    "    return args\n",
    "\n",
    "\n"
   ]
  },
  {
   "cell_type": "code",
   "execution_count": 3,
   "id": "4429bedb-59ee-49a3-a841-6117b0606a7d",
   "metadata": {},
   "outputs": [
    {
     "name": "stdout",
     "output_type": "stream",
     "text": [
      "predict in  LSTM\n"
     ]
    },
    {
     "name": "stderr",
     "output_type": "stream",
     "text": [
      "100%|████████████████████████████████████████████████████████████████████████████████████| 2/2 [00:00<00:00, 83.50it/s]\n",
      "100%|████████████████████████████████████████████████████████████████████████████████████| 2/2 [00:00<00:00, 71.67it/s]\n",
      "100%|████████████████████████████████████████████████████████████████████████████████████| 2/2 [00:00<00:00, 71.67it/s]\n"
     ]
    },
    {
     "name": "stdout",
     "output_type": "stream",
     "text": [
      "predict in  GRU\n"
     ]
    },
    {
     "name": "stderr",
     "output_type": "stream",
     "text": [
      "100%|████████████████████████████████████████████████████████████████████████████████████| 2/2 [00:00<00:00, 15.20it/s]\n",
      "100%|████████████████████████████████████████████████████████████████████████████████████| 2/2 [00:00<00:00, 15.09it/s]\n",
      "100%|████████████████████████████████████████████████████████████████████████████████████| 2/2 [00:00<00:00, 14.86it/s]\n"
     ]
    },
    {
     "name": "stdout",
     "output_type": "stream",
     "text": [
      "predict in  MLP\n"
     ]
    },
    {
     "name": "stderr",
     "output_type": "stream",
     "text": [
      "100%|███████████████████████████████████████████████████████████████████████████████████| 2/2 [00:00<00:00, 111.49it/s]\n",
      "100%|███████████████████████████████████████████████████████████████████████████████████| 2/2 [00:00<00:00, 250.82it/s]\n",
      "100%|███████████████████████████████████████████████████████████████████████████████████| 2/2 [00:00<00:00, 250.82it/s]\n"
     ]
    },
    {
     "name": "stdout",
     "output_type": "stream",
     "text": [
      "predict in  NRSR\n"
     ]
    },
    {
     "name": "stderr",
     "output_type": "stream",
     "text": [
      "100%|████████████████████████████████████████████████████████████████████████████████████| 2/2 [00:00<00:00,  9.93it/s]\n",
      "100%|████████████████████████████████████████████████████████████████████████████████████| 2/2 [00:00<00:00,  2.51it/s]\n",
      "100%|████████████████████████████████████████████████████████████████████████████████████| 2/2 [00:00<00:00,  9.79it/s]\n",
      "100%|████████████████████████████████████████████████████████████████████████████████████| 2/2 [00:00<00:00, 11.73it/s]\n"
     ]
    },
    {
     "name": "stdout",
     "output_type": "stream",
     "text": [
      "predict in  relation_GATs\n"
     ]
    },
    {
     "name": "stderr",
     "output_type": "stream",
     "text": [
      "100%|████████████████████████████████████████████████████████████████████████████████████| 2/2 [00:00<00:00, 12.31it/s]\n",
      "100%|████████████████████████████████████████████████████████████████████████████████████| 2/2 [00:00<00:00,  3.09it/s]\n",
      "100%|████████████████████████████████████████████████████████████████████████████████████| 2/2 [00:00<00:00, 11.53it/s]\n",
      "100%|████████████████████████████████████████████████████████████████████████████████████| 2/2 [00:00<00:00, 12.16it/s]\n"
     ]
    },
    {
     "name": "stdout",
     "output_type": "stream",
     "text": [
      "predict in  LSTM\n"
     ]
    },
    {
     "name": "stderr",
     "output_type": "stream",
     "text": [
      "100%|████████████████████████████████████████████████████████████████████████████████████| 2/2 [00:00<00:00, 87.25it/s]\n",
      "100%|███████████████████████████████████████████████████████████████████████████████████| 2/2 [00:00<00:00, 100.33it/s]\n",
      "100%|███████████████████████████████████████████████████████████████████████████████████| 2/2 [00:00<00:00, 111.48it/s]\n"
     ]
    },
    {
     "name": "stdout",
     "output_type": "stream",
     "text": [
      "predict in  GRU\n"
     ]
    },
    {
     "name": "stderr",
     "output_type": "stream",
     "text": [
      "100%|████████████████████████████████████████████████████████████████████████████████████| 2/2 [00:00<00:00, 16.45it/s]\n",
      "100%|████████████████████████████████████████████████████████████████████████████████████| 2/2 [00:00<00:00, 14.75it/s]\n",
      "100%|████████████████████████████████████████████████████████████████████████████████████| 2/2 [00:00<00:00, 12.39it/s]\n"
     ]
    },
    {
     "name": "stdout",
     "output_type": "stream",
     "text": [
      "predict in  MLP\n"
     ]
    },
    {
     "name": "stderr",
     "output_type": "stream",
     "text": [
      "100%|███████████████████████████████████████████████████████████████████████████████████| 2/2 [00:00<00:00, 334.39it/s]\n",
      "100%|███████████████████████████████████████████████████████████████████████████████████| 2/2 [00:00<00:00, 250.83it/s]\n",
      "100%|███████████████████████████████████████████████████████████████████████████████████| 2/2 [00:00<00:00, 222.96it/s]\n"
     ]
    },
    {
     "name": "stdout",
     "output_type": "stream",
     "text": [
      "predict in  NRSR\n"
     ]
    },
    {
     "name": "stderr",
     "output_type": "stream",
     "text": [
      "100%|████████████████████████████████████████████████████████████████████████████████████| 2/2 [00:00<00:00, 10.18it/s]\n",
      "100%|████████████████████████████████████████████████████████████████████████████████████| 2/2 [00:00<00:00,  2.68it/s]\n",
      "100%|████████████████████████████████████████████████████████████████████████████████████| 2/2 [00:00<00:00, 10.67it/s]\n",
      "100%|████████████████████████████████████████████████████████████████████████████████████| 2/2 [00:00<00:00, 12.02it/s]\n"
     ]
    },
    {
     "name": "stdout",
     "output_type": "stream",
     "text": [
      "predict in  relation_GATs\n"
     ]
    },
    {
     "name": "stderr",
     "output_type": "stream",
     "text": [
      "100%|████████████████████████████████████████████████████████████████████████████████████| 2/2 [00:00<00:00, 12.39it/s]\n",
      "100%|████████████████████████████████████████████████████████████████████████████████████| 2/2 [00:00<00:00,  3.04it/s]\n",
      "100%|████████████████████████████████████████████████████████████████████████████████████| 2/2 [00:00<00:00, 11.60it/s]\n",
      "100%|████████████████████████████████████████████████████████████████████████████████████| 2/2 [00:00<00:00, 12.70it/s]"
     ]
    },
    {
     "name": "stdout",
     "output_type": "stream",
     "text": [
      "[({'prediction_model': 'LSTM', 'explanation_model': 'inputGradientExplainer', 'start_date': '2022-06-01', 'end_date': '2022-06-02', 'seq_len': 30}, {'可靠性得分': 0.01315918269616674, '稳定性得分': 0.58189999539838, '鲁棒性得分': 0.2862492457317245, '透明性得分': 0.0, '解释效果得分': 0.0}), ({'prediction_model': 'GRU', 'explanation_model': 'inputGradientExplainer', 'start_date': '2022-06-01', 'end_date': '2022-06-02', 'seq_len': 30}, {'可靠性得分': 0.0, '稳定性得分': 0.6537007410284782, '鲁棒性得分': 0.0, '透明性得分': 0.0, '解释效果得分': 0.0}), ({'prediction_model': 'MLP', 'explanation_model': 'inputGradientExplainer', 'start_date': '2022-06-01', 'end_date': '2022-06-02', 'seq_len': 30}, {'可靠性得分': 0.9999999999999998, '稳定性得分': 0.0, '鲁棒性得分': 1.0, '透明性得分': 0.0, '解释效果得分': 0.0}), ({'prediction_model': 'NRSR', 'explanation_model': 'inputGradientExplainer', 'start_date': '2022-06-01', 'end_date': '2022-06-02', 'seq_len': 30}, {'可靠性得分': 0.024895915330210447, '稳定性得分': 0.9999999999999999, '鲁棒性得分': 0.19046097834299047, '透明性得分': 1.0, '解释效果得分': 0.4670955160088174}), ({'prediction_model': 'relation_GATs', 'explanation_model': 'inputGradientExplainer', 'start_date': '2022-06-01', 'end_date': '2022-06-02', 'seq_len': 30}, {'可靠性得分': 0.17674210594906065, '稳定性得分': 0.8308072752089865, '鲁棒性得分': 0.18139708231284857, '透明性得分': 1.0, '解释效果得分': 1.0}), ({'prediction_model': 'LSTM', 'explanation_model': 'inputGradientExplainer', 'start_date': '2022-06-01', 'end_date': '2022-06-02', 'seq_len': 60}, {'可靠性得分': 0.01315918269616674, '稳定性得分': 0.58189999539838, '鲁棒性得分': 0.2862492457317245, '透明性得分': 0.0, '解释效果得分': 0.0}), ({'prediction_model': 'GRU', 'explanation_model': 'inputGradientExplainer', 'start_date': '2022-06-01', 'end_date': '2022-06-02', 'seq_len': 60}, {'可靠性得分': 0.0, '稳定性得分': 0.6537007410284782, '鲁棒性得分': 0.0, '透明性得分': 0.0, '解释效果得分': 0.0}), ({'prediction_model': 'MLP', 'explanation_model': 'inputGradientExplainer', 'start_date': '2022-06-01', 'end_date': '2022-06-02', 'seq_len': 60}, {'可靠性得分': 0.9999999999999998, '稳定性得分': 0.0, '鲁棒性得分': 1.0, '透明性得分': 0.0, '解释效果得分': 0.0}), ({'prediction_model': 'NRSR', 'explanation_model': 'inputGradientExplainer', 'start_date': '2022-06-01', 'end_date': '2022-06-02', 'seq_len': 60}, {'可靠性得分': 0.024895915330210447, '稳定性得分': 0.9999999999999999, '鲁棒性得分': 0.19046097834299047, '透明性得分': 1.0, '解释效果得分': 0.4670955160088174}), ({'prediction_model': 'relation_GATs', 'explanation_model': 'inputGradientExplainer', 'start_date': '2022-06-01', 'end_date': '2022-06-02', 'seq_len': 60}, {'可靠性得分': 0.17674210594906065, '稳定性得分': 0.8308072752089865, '鲁棒性得分': 0.18139708231284857, '透明性得分': 1.0, '解释效果得分': 1.0})]\n"
     ]
    },
    {
     "name": "stderr",
     "output_type": "stream",
     "text": [
      "\n"
     ]
    }
   ],
   "source": [
    "args = parse_args()\n",
    "\n",
    "model_list = ['LSTM', 'GRU', 'MLP', 'NRSR', 'relation_GATs']\n",
    "# model_list = ['NRSR']\n",
    "explanation_model = \"inputGradientExplainer\"\n",
    "seq_len_list = [30, 60]\n",
    "\n",
    "args.start_date = '2022-06-01'\n",
    "args.end_date = '2022-06-02'\n",
    "\n",
    "args.seq_len = 60\n",
    "c_a_r_list = []\n",
    "for seq_len in seq_len_list:\n",
    "    for model in model_list:\n",
    "        h_p_dict = {\n",
    "            \"prediction_model\": model,\n",
    "            \"explanation_model\": explanation_model,\n",
    "            \"start_date\": args.start_date,\n",
    "            \"end_date\": args.end_date,\n",
    "            \"seq_len\": seq_len\n",
    "        }\n",
    "        args.model_name = model\n",
    "        args.seq_len = seq_len\n",
    "\n",
    "        data_loader, param_dict, model = prepare_data_and_model(args)\n",
    "        credibility_assessment_results_dict = run_credibility_assessment(param_dict, data_loader, model,\n",
    "                                                                         explanation_model)\n",
    "\n",
    "        c_a_r_list.append((h_p_dict, credibility_assessment_results_dict))\n",
    "\n",
    "n_c_a_r_list = normalize_assessment_results_list(c_a_r_list, num_selection = 5)\n",
    "\n",
    "print(n_c_a_r_list)"
   ]
  },
  {
   "cell_type": "code",
   "execution_count": 4,
   "id": "fb222fe9-dde9-46e4-a31b-c79d4e543ca6",
   "metadata": {},
   "outputs": [
    {
     "name": "stdout",
     "output_type": "stream",
     "text": [
      "predict in  NRSR\n"
     ]
    },
    {
     "name": "stderr",
     "output_type": "stream",
     "text": [
      "100%|████████████████████████████████████████████████████████████████████████████████████| 2/2 [00:00<00:00, 11.80it/s]"
     ]
    },
    {
     "name": "stdout",
     "output_type": "stream",
     "text": [
      "['300413.SZ', '603882.SH', '300122.SZ']\n"
     ]
    },
    {
     "name": "stderr",
     "output_type": "stream",
     "text": [
      "\n"
     ]
    }
   ],
   "source": [
    "args.model_name = \"NRSR\"\n",
    "explanation_model = \"inputGradientExplainer\"\n",
    "args.seq_len = 60\n",
    "args.num_recommendation_stocks = 3\n",
    "data_loader, param_dict, model = prepare_data_and_model(args)\n",
    "recommend_stocks_list = test_get_stocks_recommendation(param_dict, data_loader, model,\n",
    "                                                       top_n=args.num_recommendation_stocks)  # 输出的是推荐的股票\n",
    "\n",
    "print(recommend_stocks_list)"
   ]
  },
  {
   "cell_type": "code",
   "execution_count": 6,
   "id": "2f721571-6f12-4900-8602-dda22bd10714",
   "metadata": {},
   "outputs": [
    {
     "name": "stdout",
     "output_type": "stream",
     "text": [
      "{'002460.SZ': 3}\n",
      "002460.SZ 能源金属 7\n"
     ]
    },
    {
     "name": "stderr",
     "output_type": "stream",
     "text": [
      "100%|████████████████████████████████████████████████████████████████████████████████████| 7/7 [00:00<00:00,  8.17it/s]\n"
     ]
    },
    {
     "name": "stdout",
     "output_type": "stream",
     "text": [
      "------------------------------------------------------------------------------------------\n",
      "------------------------------------------------------------------------------------------\n",
      "002460.SZ: 近1天年化收益率位于同行业股票Top100%(7/7), 年化波动率位于同行业股票Top100% (7/7)。\n",
      "{'用户收益偏好得分': 0, '用户风险偏好得分': 8.838376465259849, '用户投资体验感得分': 5, '沪深300指数比较得分': 0, '中证500指数比较得分': 0, '基准比较得分': 0, '同行业股票比较对比得分': 0}\n",
      "您做的选择数量需要大于5种\n",
      "None\n",
      "{'600009.SH': 1}\n",
      "600009.SH 航空机场 12\n"
     ]
    },
    {
     "name": "stderr",
     "output_type": "stream",
     "text": [
      "100%|██████████████████████████████████████████████████████████████████████████████████| 12/12 [00:01<00:00,  8.21it/s]\n"
     ]
    },
    {
     "name": "stdout",
     "output_type": "stream",
     "text": [
      "------------------------------------------------------------------------------------------\n",
      "------------------------------------------------------------------------------------------\n",
      "600009.SH: 近1天年化收益率位于同行业股票Top25%(3/12), 年化波动率位于同行业股票Top25% (3/12)。\n",
      "{'用户收益偏好得分': 0, '用户风险偏好得分': 9.194793033518906, '用户投资体验感得分': 5, '沪深300指数比较得分': 0, '中证500指数比较得分': 0, '基准比较得分': 0, '同行业股票比较对比得分': 0}\n",
      "您做的选择数量需要大于5种\n",
      "None\n",
      "{'600000.SH': 100}\n",
      "600000.SH 银行 41\n"
     ]
    },
    {
     "name": "stderr",
     "output_type": "stream",
     "text": [
      "100%|██████████████████████████████████████████████████████████████████████████████████| 41/41 [00:05<00:00,  7.26it/s]\n"
     ]
    },
    {
     "name": "stdout",
     "output_type": "stream",
     "text": [
      "------------------------------------------------------------------------------------------\n",
      "------------------------------------------------------------------------------------------\n",
      "600000.SH: 近1天年化收益率位于同行业股票Top2%(1/41), 年化波动率位于同行业股票Top2% (1/41)。\n",
      "{'用户收益偏好得分': 0, '用户风险偏好得分': 0, '用户投资体验感得分': 5, '沪深300指数比较得分': 0, '中证500指数比较得分': 0, '基准比较得分': 0, '同行业股票比较对比得分': 0}\n",
      "您做的选择数量需要大于5种\n",
      "None\n",
      "{'600015.SH': 1}\n",
      "600015.SH 银行 41\n"
     ]
    },
    {
     "name": "stderr",
     "output_type": "stream",
     "text": [
      "100%|██████████████████████████████████████████████████████████████████████████████████| 41/41 [00:05<00:00,  7.47it/s]\n"
     ]
    },
    {
     "name": "stdout",
     "output_type": "stream",
     "text": [
      "------------------------------------------------------------------------------------------\n",
      "------------------------------------------------------------------------------------------\n",
      "600015.SH: 近1天年化收益率位于同行业股票Top60%(25/41), 年化波动率位于同行业股票Top60% (25/41)。\n",
      "{'用户收益偏好得分': 0, '用户风险偏好得分': 9.413525301733252, '用户投资体验感得分': 5, '沪深300指数比较得分': 0, '中证500指数比较得分': 0, '基准比较得分': 0, '同行业股票比较对比得分': 0}\n",
      "您做的选择数量需要大于5种\n",
      "None\n",
      "{'600703.SH': 1}\n",
      "600703.SH 光学光电子 87\n"
     ]
    },
    {
     "name": "stderr",
     "output_type": "stream",
     "text": [
      "100%|██████████████████████████████████████████████████████████████████████████████████| 87/87 [00:11<00:00,  7.36it/s]\n"
     ]
    },
    {
     "name": "stdout",
     "output_type": "stream",
     "text": [
      "------------------------------------------------------------------------------------------\n",
      "------------------------------------------------------------------------------------------\n",
      "600703.SH: 近1天年化收益率位于同行业股票Top81%(71/87), 年化波动率位于同行业股票Top81% (71/87)。\n",
      "{'用户收益偏好得分': 13.28283954107404, '用户风险偏好得分': 9.249637446628135, '用户投资体验感得分': 5, '沪深300指数比较得分': 13.98273381094074, '中证500指数比较得分': 13.897114299869612, '基准比较得分': 0, '同行业股票比较对比得分': 59.99972464308864}\n",
      "[({'select_dict': {'002460.SZ': 3}, 'return_preference': 0, 'seq_len': 90, 'start_date': '20220601', 'end_date': '20220602'}, {'用户收益偏好得分': 0.0, '用户风险偏好得分': 0.9389018653439531, '用户投资体验感得分': 0.0, '沪深300指数比较得分': 0.0, '中证500指数比较得分': 0.0, '基准比较得分': 0.0, '同行业股票比较对比得分': 0.0}), ({'select_dict': {'600009.SH': 1}, 'return_preference': 0, 'seq_len': 90, 'start_date': '20220601', 'end_date': '20220602'}, {'用户收益偏好得分': 0.0, '用户风险偏好得分': 0.9767640430972154, '用户投资体验感得分': 0.0, '沪深300指数比较得分': 0.0, '中证500指数比较得分': 0.0, '基准比较得分': 0.0, '同行业股票比较对比得分': 0.0}), ({'select_dict': {'600000.SH': 100}, 'return_preference': 0, 'seq_len': 90, 'start_date': '20220601', 'end_date': '20220602'}, {'用户收益偏好得分': 0.0, '用户风险偏好得分': 0.0, '用户投资体验感得分': 0.0, '沪深300指数比较得分': 0.0, '中证500指数比较得分': 0.0, '基准比较得分': 0.0, '同行业股票比较对比得分': 0.0}), ({'select_dict': {'600015.SH': 1}, 'return_preference': 0, 'seq_len': 90, 'start_date': '20220601', 'end_date': '20220602'}, {'用户收益偏好得分': 0.0, '用户风险偏好得分': 1.0, '用户投资体验感得分': 0.0, '沪深300指数比较得分': 0.0, '中证500指数比较得分': 0.0, '基准比较得分': 0.0, '同行业股票比较对比得分': 0.0}), ({'select_dict': {'600703.SH': 1}, 'return_preference': 0, 'seq_len': 90, 'start_date': '20220601', 'end_date': '20220602'}, {'用户收益偏好得分': 0.9999999999999999, '用户风险偏好得分': 0.9825901721350937, '用户投资体验感得分': 0.0, '沪深300指数比较得分': 0.9999999999999999, '中证500指数比较得分': 1.0, '基准比较得分': 0.0, '同行业股票比较对比得分': 1.0})]\n",
      "{'300072.SZ': 1}\n",
      "300072.SZ 化学制品 130\n"
     ]
    },
    {
     "name": "stderr",
     "output_type": "stream",
     "text": [
      "100%|████████████████████████████████████████████████████████████████████████████████| 130/130 [00:19<00:00,  6.70it/s]\n"
     ]
    },
    {
     "name": "stdout",
     "output_type": "stream",
     "text": [
      "------------------------------------------------------------------------------------------\n",
      "------------------------------------------------------------------------------------------\n",
      "300072.SZ: 近1天年化收益率位于同行业股票Top82%(107/130), 年化波动率位于同行业股票Top82% (107/130)。\n",
      "{'用户收益偏好得分': 0, '用户风险偏好得分': 9.456902169318989, '用户投资体验感得分': 5, '沪深300指数比较得分': 0, '中证500指数比较得分': 0, '基准比较得分': 0, '同行业股票比较对比得分': 0}\n",
      "[({'select_dict': {'002460.SZ': 3}, 'return_preference': 0, 'seq_len': 90, 'start_date': '20220601', 'end_date': '20220602'}, {'用户收益偏好得分': 0.0, '用户风险偏好得分': 0.09928218020379134, '用户投资体验感得分': 0.0, '沪深300指数比较得分': 0.0, '中证500指数比较得分': 0.0, '基准比较得分': 0.0, '同行业股票比较对比得分': 0.0}), ({'select_dict': {'600009.SH': 1}, 'return_preference': 0, 'seq_len': 90, 'start_date': '20220601', 'end_date': '20220602'}, {'用户收益偏好得分': 0.0, '用户风险偏好得分': 0.10328583563718459, '用户投资体验感得分': 0.0, '沪深300指数比较得分': 0.0, '中证500指数比较得分': 0.0, '基准比较得分': 0.0, '同行业股票比较对比得分': 0.0}), ({'select_dict': {'600000.SH': 100}, 'return_preference': 0, 'seq_len': 90, 'start_date': '20220601', 'end_date': '20220602'}, {'用户收益偏好得分': 0.0, '用户风险偏好得分': 0.0, '用户投资体验感得分': 0.0, '沪深300指数比较得分': 0.0, '中证500指数比较得分': 0.0, '基准比较得分': 0.0, '同行业股票比较对比得分': 0.0}), ({'select_dict': {'600015.SH': 1}, 'return_preference': 0, 'seq_len': 90, 'start_date': '20220601', 'end_date': '20220602'}, {'用户收益偏好得分': 0.0, '用户风险偏好得分': 0.10574287246454746, '用户投资体验感得分': 0.0, '沪深300指数比较得分': 0.0, '中证500指数比较得分': 0.0, '基准比较得分': 0.0, '同行业股票比较对比得分': 0.0}), ({'select_dict': {'600703.SH': 1}, 'return_preference': 0, 'seq_len': 90, 'start_date': '20220601', 'end_date': '20220602'}, {'用户收益偏好得分': 1.0, '用户风险偏好得分': 0.10390190725699895, '用户投资体验感得分': 0.0, '沪深300指数比较得分': 1.0, '中证500指数比较得分': 1.0, '基准比较得分': 0.0, '同行业股票比较对比得分': 1.0}), ({'select_dict': {'300072.SZ': 1}, 'return_preference': 0, 'seq_len': 90, 'start_date': '20220601', 'end_date': '20220602'}, {'用户收益偏好得分': 0.0, '用户风险偏好得分': 1.0, '用户投资体验感得分': 1.0, '沪深300指数比较得分': 0.0, '中证500指数比较得分': 0.0, '基准比较得分': 0.0, '同行业股票比较对比得分': 0.0})]\n"
     ]
    }
   ],
   "source": [
    "select_dict_list = [\n",
    "        {\n",
    "            '002460.SZ': 3,\n",
    "\n",
    "        },\n",
    "        {\n",
    "            '600009.SH': 1,\n",
    "\n",
    "        },\n",
    "        {\n",
    "            '600000.SH': 100,\n",
    "\n",
    "        },\n",
    "        {\n",
    "            '600015.SH': 1,\n",
    "        },\n",
    "        {\n",
    "            '600703.SH': 1,\n",
    "        },\n",
    "        {\n",
    "            '300072.SZ': 1\n",
    "        },\n",
    "    ]\n",
    "args.start_date = args.start_date.replace('-', '')\n",
    "args.end_date = args.end_date.replace('-', '')\n",
    "args.return_preference = 0 # 输入回报偏好\n",
    "args.risk_preference = 90 # 输入风险偏好\n",
    "p_a_r_list = []\n",
    "for select_dict in select_dict_list:\n",
    "    h_p_dict = {\n",
    "                    \"select_dict\": select_dict,\n",
    "                    \"return_preference\": args.return_preference,\n",
    "                    \"seq_len\": args.risk_preference,\n",
    "                    \"start_date\": args.start_date,\n",
    "                    \"end_date\": args.end_date,\n",
    "\n",
    "                }\n",
    "    performance_assessment_results_dict = run_performance_assessment(args, select_dict) # 输出性能得分\n",
    "    print(performance_assessment_results_dict)\n",
    "    p_a_r_list.append((h_p_dict, performance_assessment_results_dict))\n",
    "\n",
    "    n_p_a_r_list = normalize_assessment_results_list(p_a_r_list, num_selection=5)\n",
    "    print(n_p_a_r_list)"
   ]
  }
 ],
 "metadata": {
  "kernelspec": {
   "display_name": "Python 3 (ipykernel)",
   "language": "python",
   "name": "python3"
  },
  "language_info": {
   "codemirror_mode": {
    "name": "ipython",
    "version": 3
   },
   "file_extension": ".py",
   "mimetype": "text/x-python",
   "name": "python",
   "nbconvert_exporter": "python",
   "pygments_lexer": "ipython3",
   "version": "3.8.19"
  }
 },
 "nbformat": 4,
 "nbformat_minor": 5
}
