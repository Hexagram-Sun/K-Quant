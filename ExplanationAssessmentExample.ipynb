{
 "cells": [
  {
   "cell_type": "code",
   "execution_count": 59,
   "id": "bb49579a",
   "metadata": {},
   "outputs": [],
   "source": [
    "from Explanation.ExplanationInterface import run_explanation"
   ]
  },
  {
   "cell_type": "code",
   "execution_count": 60,
   "id": "121b6bf3-90e5-43a4-96ef-c7b1eb68bb71",
   "metadata": {},
   "outputs": [],
   "source": [
    "def parse_args():\n",
    "    parser = argparse.ArgumentParser()\n",
    "\n",
    "    parser.add_argument('--device', default='cpu')\n",
    "\n",
    "    #地址\n",
    "    parser.add_argument(\"--data_root\", type=str, default=\"D:\\ProjectCodes\\K-Quant\\Data\",\n",
    "                        help=\"graph_data root path\")\n",
    "    parser.add_argument(\"--ckpt_root\", type=str, default=r\".\\pretrianedModel\\tmp_ckpt\",\n",
    "                        help=\"ckpt root path\")\n",
    "    parser.add_argument(\"--result_root\", type=str, default=r\".\\results\",\n",
    "                        help=\"explanation resluts root path\")\n",
    "    parser.add_argument('--market_value_path', type=str, default=r'D:\\ProjectCodes\\K-Quant\\Data\\csi300_market_value_07to20.pkl')\n",
    "    parser.add_argument('--stock_index', type=str, default=r'D:\\ProjectCodes\\K-Quant\\Data\\csi300_stock_index.npy')\n",
    "    parser.add_argument('--graph_data_path', default='D:\\ProjectCodes\\K-Quant\\Data\\csi300_multi_stock2stock_all.npy')\n",
    "    parser.add_argument('--model_dir', type=str, default=r'D:\\ProjectCodes\\K-Quant\\Explanation\\pretrianedModel\\csi300_NRSR_3')\n",
    "\n",
    "    parser.add_argument('--d_feat', type=int, default=6)\n",
    "    parser.add_argument('--num_layers', type=int, default=2)\n",
    "\n",
    "    # 选择预测模型\n",
    "    parser.add_argument('--graph_model', default='RSR',\n",
    "                        choices=['RSR', 'GAT'])\n",
    "\n",
    "    # 选择解释模型\n",
    "    parser.add_argument('--explainer', default='inputGradientExplainer',\n",
    "                        choices=['inputGradientExplainer', 'gradExplainer', 'effectExplainer', 'xpathExplainer'])\n",
    "\n",
    "    parser.add_argument(\"--relation_type\", type=str, default=\"stock-stock\",\n",
    "                        choices=[\"stock-stock\", \"industry\", \"full\"], help=\"relation type of graph\")\n",
    "\n",
    "    parser.add_argument(\"--market\", type=str, default=\"A_share\",\n",
    "                        choices=[\"A_share\"], help=\"market name\")\n",
    "\n",
    "    parser.add_argument('--start_date', type=str, default='2021-01-03')\n",
    "    parser.add_argument('--end_date', type=str,  default='2021-01-05')\n",
    "    parser.add_argument('--top_k', type=float, default=3)\n",
    "    parser.add_argument('--top_p', type=float, default=0.2)\n",
    "\n",
    "    # check\n",
    "    parser.add_argument('--stock_list', type=list, default=[])\n",
    "    parser.add_argument('--date_list', type=list, default=[])\n",
    "    # parser.add_argument('--top_k', type=int, default=3)\n",
    "    args = parser.parse_known_args()[0]\n",
    "    return args"
   ]
  },
  {
   "cell_type": "code",
   "execution_count": 89,
   "id": "841dd3fe",
   "metadata": {},
   "outputs": [],
   "source": [
    "start_date = '2022-06-01'\n",
    "end_date = '2022-06-05'\n",
    "explainer = 'inputGradientExplainer'\n",
    "check_stock_list = ['SH600018']\n",
    "check_date_list = ['2022-06-02']"
   ]
  },
  {
   "cell_type": "code",
   "execution_count": 90,
   "id": "ccfb0227-7ef1-410a-b8d6-d271953148cf",
   "metadata": {},
   "outputs": [],
   "source": [
    "args= parse_args()"
   ]
  },
  {
   "cell_type": "code",
   "execution_count": 91,
   "id": "f51ce775-cc90-45af-864c-f13833bae186",
   "metadata": {},
   "outputs": [],
   "source": [
    "def get_results(args, start_date, end_date, explainer, check_stock_list, check_date_list):\n",
    "    args.start_date = start_date\n",
    "    args.end_date = end_date\n",
    "    args.explainer = explainer\n",
    "    args.stock_list = check_stock_list\n",
    "    args.date_list = check_date_list\n",
    "    relative_stocks_dict, score_dict = run_explanation(args)\n",
    "\n",
    "    for date, stocks_score in score_dict.items():\n",
    "        if date not in check_date_list:\n",
    "            continue\n",
    "        for stock, score in stocks_score.items():\n",
    "            if stock not in check_stock_list:\n",
    "                continue\n",
    "            print(r'--------------------------------------------------------------------')\n",
    "            print(r'股票 {} 解释结果如下：'.format(stock))\n",
    "            print(r'最相关的股票与得分{}'.format(relative_stocks_dict[date][stock]))\n",
    "            print(r'对该解释结果的评价如下：')\n",
    "            print(r'总得分：{}，保真度得分：{}，准确性得分：{}， 稀疏性得分：{}'.format(\n",
    "                score['score'],\n",
    "                score['f_score'],\n",
    "                score['c_score'],\n",
    "                score['s_score']\n",
    "\n",
    "            ))\n"
   ]
  },
  {
   "cell_type": "code",
   "execution_count": 92,
   "id": "b9e43b64-87ef-4cd5-9512-f1783f48f2d5",
   "metadata": {},
   "outputs": [
    {
     "name": "stderr",
     "output_type": "stream",
     "text": [
      "100%|████████████████████████████████████████████████████████████████████████████████████| 2/2 [00:01<00:00,  1.46it/s]\n"
     ]
    },
    {
     "name": "stdout",
     "output_type": "stream",
     "text": [
      "--------------------------------------------------------------------\n",
      "股票 SH600018 解释结果如下：\n",
      "最相关的股票与得分[('SH601229', -0.01938703842461109)]\n",
      "对该解释结果的评价如下：\n",
      "总得分：9.0，保真度得分：5.0，准确性得分：0， 稀疏性得分：4.0\n"
     ]
    }
   ],
   "source": [
    "get_results(args, start_date, end_date, explainer, check_stock_list, check_date_list)"
   ]
  }
 ],
 "metadata": {
  "kernelspec": {
   "display_name": "Python 3 (ipykernel)",
   "language": "python",
   "name": "python3"
  },
  "language_info": {
   "codemirror_mode": {
    "name": "ipython",
    "version": 3
   },
   "file_extension": ".py",
   "mimetype": "text/x-python",
   "name": "python",
   "nbconvert_exporter": "python",
   "pygments_lexer": "ipython3",
   "version": "3.8.16"
  }
 },
 "nbformat": 4,
 "nbformat_minor": 5
}
