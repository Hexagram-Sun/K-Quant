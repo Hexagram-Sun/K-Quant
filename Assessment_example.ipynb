{
 "cells": [
  {
   "cell_type": "code",
   "execution_count": 1,
   "id": "96b76cc1-89ec-4851-ab5f-9a411c59c45b",
   "metadata": {},
   "outputs": [
    {
     "name": "stderr",
     "output_type": "stream",
     "text": [
      "D:\\ProgramFiles\\Miniconda\\envs\\qlib\\lib\\site-packages\\numpy\\_distributor_init.py:30: UserWarning: loaded more than 1 DLL from .libs:\n",
      "D:\\ProgramFiles\\Miniconda\\envs\\qlib\\lib\\site-packages\\numpy\\.libs\\libopenblas.FB5AE2TYXYH2IJRDKGDGQ3XBKLKTF43H.gfortran-win_amd64.dll\n",
      "D:\\ProgramFiles\\Miniconda\\envs\\qlib\\lib\\site-packages\\numpy\\.libs\\libopenblas64__v0.3.21-gcc_10_3_0.dll\n",
      "  warnings.warn(\"loaded more than 1 DLL from .libs:\"\n"
     ]
    }
   ],
   "source": [
    "from Assessment.Credibility_assessment import run_credibility_assessment\n",
    "from Assessment.Performance_assessment import run_performance_assessment\n",
    "from Assessment.run_assessment import prepare_data_and_model, test_get_stocks_recommendation\n",
    "from Assessment.utils import parse_args, normalize_assessment_results_list"
   ]
  },
  {
   "cell_type": "code",
   "execution_count": 2,
   "id": "ab3b2aaf-a76d-4904-b6ae-d1c8c6347e56",
   "metadata": {},
   "outputs": [],
   "source": [
    "import argparse\n",
    "from Assessment.utils import ParseConfigFile\n",
    "import sys\n",
    "def parse_args():\n",
    "    parser = argparse.ArgumentParser()\n",
    "\n",
    "    # model\n",
    "    parser.add_argument('--model_name', default='relation_GATs')\n",
    "    parser.add_argument('--model_path', default='D:\\Research\\Fintech\\K-Quant\\parameter')\n",
    "    parser.add_argument('--num_relation', type= int, default=134)\n",
    "    parser.add_argument('--d_feat', type=int, default=6)\n",
    "    parser.add_argument('--hidden_size', type=int, default=128)\n",
    "    parser.add_argument('--num_layers', type=int, default=2)\n",
    "    parser.add_argument('--dropout', type=float, default=0.1)\n",
    "    parser.add_argument('--K', type=int, default=1)\n",
    "    parser.add_argument('--loss_type', default='')\n",
    "    parser.add_argument('--config', action=ParseConfigFile, default='')\n",
    "    # for ts lib model\n",
    "    parser.add_argument('--seq_len', type=int, default=60)\n",
    "    parser.add_argument('--moving_avg', type=int, default=21)\n",
    "    parser.add_argument('--output_attention', action='store_true', help='whether to output attention in ecoder')\n",
    "    parser.add_argument('--embed', type=str, default='timeF',\n",
    "                        help='time features encoding, options:[timeF, fixed, learned]')\n",
    "    parser.add_argument('--freq', type=str, default='b',\n",
    "                        help='freq for time features encoding, options:[s:secondly, t:minutely, h:hourly, d:daily, b:business days, w:weekly, m:monthly], you can also use more detailed freq like 15min or 3h')\n",
    "    parser.add_argument('--distil', action='store_false',\n",
    "                        help='whether to use distilling in encoder, using this argument means not using distilling',\n",
    "                        default=False)\n",
    "    parser.add_argument('--factor', type=int, default=1, help='attn factor')\n",
    "    parser.add_argument('--n_heads', type=int, default=1, help='num of heads')\n",
    "    parser.add_argument('--d_ff', type=int, default=64, help='dimension of fcn')\n",
    "    parser.add_argument('--activation', type=str, default='gelu', help='activation')\n",
    "    parser.add_argument('--e_layers', type=int, default=8, help='num of encoder layers')\n",
    "    parser.add_argument('--top_k', type=int, default=5, help='for TimesBlock')\n",
    "    parser.add_argument('--pred_len', type=int, default=-1, help='the length of pred squence, in regression set to -1')\n",
    "    parser.add_argument('--de_norm', default=True, help='de normalize or not')\n",
    "\n",
    "    # data\n",
    "    parser.add_argument('--data_set', type=str, default='csi360')\n",
    "    parser.add_argument('--target', type=str, default='t+0')\n",
    "    parser.add_argument('--pin_memory', action='store_false', default=True)\n",
    "    parser.add_argument('--batch_size', type=int, default=-1)  # -1 indicate daily batch\n",
    "    parser.add_argument('--least_samples_num', type=float, default=1137.0)\n",
    "    parser.add_argument('--label', default='')  # specify other labels\n",
    "    parser.add_argument('--start_date', default='2019-01-01')\n",
    "    parser.add_argument('--end_date', default='2019-01-05')\n",
    "\n",
    "    # input for csi 300\n",
    "    parser.add_argument('--data_root', default='D:\\Research\\Fintech\\K-Quant\\Data')\n",
    "    parser.add_argument('--market_value_path', default= 'D:\\Research\\Fintech\\K-Quant\\Data\\csi300_market_value_07to20.pkl')\n",
    "\n",
    "    parser.add_argument('--stock2concept_matrix', default='D:\\ProjectCodes\\K-Quant\\Data\\csi300_stock2concept.npy')\n",
    "\n",
    "\n",
    "    parser.add_argument('--stock2stock_matrix', default='D:\\Research\\Fintech\\K-Quant\\Data\\csi300_multi_stock2stock_hidy_2024.npy')\n",
    "    parser.add_argument('--stock_index', default='D:\\Research\\Fintech\\K-Quant\\Data\\csi300_stock_index_2024.npy')\n",
    "    parser.add_argument('--model_dir', default='D:\\Research\\Fintech\\K-Quant\\parameter')\n",
    "    parser.add_argument('--overwrite', action='store_true', default=False)\n",
    "    parser.add_argument('--device', default='cpu')\n",
    "    filtered_args = [arg for arg in sys.argv if not arg.startswith('-f') and not arg.endswith('.json')]\n",
    "    args = parser.parse_args(filtered_args[1:])  # Skip the script name\n",
    "    return args\n",
    "\n",
    "\n"
   ]
  },
  {
   "cell_type": "code",
   "execution_count": 3,
   "id": "4429bedb-59ee-49a3-a841-6117b0606a7d",
   "metadata": {},
   "outputs": [
    {
     "name": "stdout",
     "output_type": "stream",
     "text": [
      "predict in  LSTM\n"
     ]
    },
    {
     "name": "stderr",
     "output_type": "stream",
     "text": [
      "100%|███████████████████████████████████████████████████████████████████████████████████| 8/8 [00:00<00:00, 113.04it/s]\n",
      "100%|███████████████████████████████████████████████████████████████████████████████████| 8/8 [00:00<00:00, 104.24it/s]\n",
      "100%|███████████████████████████████████████████████████████████████████████████████████| 8/8 [00:00<00:00, 113.05it/s]\n"
     ]
    },
    {
     "name": "stdout",
     "output_type": "stream",
     "text": [
      "predict in  GRU\n"
     ]
    },
    {
     "name": "stderr",
     "output_type": "stream",
     "text": [
      "100%|████████████████████████████████████████████████████████████████████████████████████| 8/8 [00:00<00:00, 14.51it/s]\n",
      "100%|████████████████████████████████████████████████████████████████████████████████████| 8/8 [00:00<00:00, 14.41it/s]\n",
      "100%|████████████████████████████████████████████████████████████████████████████████████| 8/8 [00:00<00:00, 14.44it/s]\n"
     ]
    },
    {
     "name": "stdout",
     "output_type": "stream",
     "text": [
      "predict in  MLP\n"
     ]
    },
    {
     "name": "stderr",
     "output_type": "stream",
     "text": [
      "100%|███████████████████████████████████████████████████████████████████████████████████| 8/8 [00:00<00:00, 573.31it/s]\n",
      "100%|███████████████████████████████████████████████████████████████████████████████████| 8/8 [00:00<00:00, 258.91it/s]\n",
      "100%|███████████████████████████████████████████████████████████████████████████████████| 8/8 [00:00<00:00, 276.78it/s]\n"
     ]
    },
    {
     "name": "stdout",
     "output_type": "stream",
     "text": [
      "predict in  NRSR\n"
     ]
    },
    {
     "name": "stderr",
     "output_type": "stream",
     "text": [
      "100%|████████████████████████████████████████████████████████████████████████████████████| 8/8 [00:00<00:00, 11.35it/s]\n",
      "100%|████████████████████████████████████████████████████████████████████████████████████| 8/8 [00:03<00:00,  2.34it/s]\n",
      "100%|████████████████████████████████████████████████████████████████████████████████████| 8/8 [00:00<00:00, 10.22it/s]\n",
      "100%|████████████████████████████████████████████████████████████████████████████████████| 8/8 [00:00<00:00, 11.42it/s]\n"
     ]
    },
    {
     "name": "stdout",
     "output_type": "stream",
     "text": [
      "predict in  relation_GATs\n"
     ]
    },
    {
     "name": "stderr",
     "output_type": "stream",
     "text": [
      "100%|████████████████████████████████████████████████████████████████████████████████████| 8/8 [00:00<00:00, 12.14it/s]\n",
      "100%|████████████████████████████████████████████████████████████████████████████████████| 8/8 [00:03<00:00,  2.49it/s]\n",
      "100%|████████████████████████████████████████████████████████████████████████████████████| 8/8 [00:00<00:00, 11.01it/s]\n",
      "100%|████████████████████████████████████████████████████████████████████████████████████| 8/8 [00:00<00:00, 11.96it/s]\n"
     ]
    },
    {
     "name": "stdout",
     "output_type": "stream",
     "text": [
      "predict in  LSTM\n"
     ]
    },
    {
     "name": "stderr",
     "output_type": "stream",
     "text": [
      "100%|███████████████████████████████████████████████████████████████████████████████████| 8/8 [00:00<00:00, 133.78it/s]\n",
      "100%|████████████████████████████████████████████████████████████████████████████████████| 8/8 [00:00<00:00, 88.20it/s]\n",
      "100%|████████████████████████████████████████████████████████████████████████████████████| 8/8 [00:00<00:00, 93.33it/s]\n"
     ]
    },
    {
     "name": "stdout",
     "output_type": "stream",
     "text": [
      "predict in  GRU\n"
     ]
    },
    {
     "name": "stderr",
     "output_type": "stream",
     "text": [
      "100%|████████████████████████████████████████████████████████████████████████████████████| 8/8 [00:00<00:00, 13.03it/s]\n",
      "100%|████████████████████████████████████████████████████████████████████████████████████| 8/8 [00:00<00:00, 13.07it/s]\n",
      "100%|████████████████████████████████████████████████████████████████████████████████████| 8/8 [00:00<00:00, 13.09it/s]\n"
     ]
    },
    {
     "name": "stdout",
     "output_type": "stream",
     "text": [
      "predict in  MLP\n"
     ]
    },
    {
     "name": "stderr",
     "output_type": "stream",
     "text": [
      "100%|███████████████████████████████████████████████████████████████████████████████████| 8/8 [00:00<00:00, 573.34it/s]\n",
      "100%|███████████████████████████████████████████████████████████████████████████████████| 8/8 [00:00<00:00, 229.33it/s]\n",
      "100%|███████████████████████████████████████████████████████████████████████████████████| 8/8 [00:00<00:00, 258.92it/s]\n"
     ]
    },
    {
     "name": "stdout",
     "output_type": "stream",
     "text": [
      "predict in  NRSR\n"
     ]
    },
    {
     "name": "stderr",
     "output_type": "stream",
     "text": [
      "100%|████████████████████████████████████████████████████████████████████████████████████| 8/8 [00:00<00:00, 10.29it/s]\n",
      "100%|████████████████████████████████████████████████████████████████████████████████████| 8/8 [00:03<00:00,  2.11it/s]\n",
      "100%|████████████████████████████████████████████████████████████████████████████████████| 8/8 [00:00<00:00,  9.25it/s]\n",
      "100%|████████████████████████████████████████████████████████████████████████████████████| 8/8 [00:00<00:00, 10.49it/s]\n"
     ]
    },
    {
     "name": "stdout",
     "output_type": "stream",
     "text": [
      "predict in  relation_GATs\n"
     ]
    },
    {
     "name": "stderr",
     "output_type": "stream",
     "text": [
      "100%|████████████████████████████████████████████████████████████████████████████████████| 8/8 [00:00<00:00, 11.15it/s]\n",
      "100%|████████████████████████████████████████████████████████████████████████████████████| 8/8 [00:03<00:00,  2.22it/s]\n",
      "100%|████████████████████████████████████████████████████████████████████████████████████| 8/8 [00:00<00:00, 10.12it/s]\n",
      "100%|████████████████████████████████████████████████████████████████████████████████████| 8/8 [00:00<00:00, 10.97it/s]"
     ]
    },
    {
     "name": "stdout",
     "output_type": "stream",
     "text": [
      "[({'prediction_model': 'LSTM', 'explanation_model': 'inputGradientExplainer', 'start_date': '2022-03-01', 'end_date': '2022-03-10', 'seq_len': 30}, {'可靠性得分': 0.9999999999999999, '稳定性得分': 0.20558592917100738, '鲁棒性得分': 0.5382398876648296, '透明性得分': 0.0, '解释效果得分': 0.0}), ({'prediction_model': 'GRU', 'explanation_model': 'inputGradientExplainer', 'start_date': '2022-03-01', 'end_date': '2022-03-10', 'seq_len': 30}, {'可靠性得分': 0.8333445472038007, '稳定性得分': 0.0, '鲁棒性得分': 0.1621049921190192, '透明性得分': 0.0, '解释效果得分': 0.0}), ({'prediction_model': 'MLP', 'explanation_model': 'inputGradientExplainer', 'start_date': '2022-03-01', 'end_date': '2022-03-10', 'seq_len': 30}, {'可靠性得分': 0.0, '稳定性得分': 1.0, '鲁棒性得分': 1.0, '透明性得分': 0.0, '解释效果得分': 0.0}), ({'prediction_model': 'NRSR', 'explanation_model': 'inputGradientExplainer', 'start_date': '2022-03-01', 'end_date': '2022-03-10', 'seq_len': 30}, {'可靠性得分': 0.800120663283993, '稳定性得分': 0.7980980405609168, '鲁棒性得分': 0.26870026714652084, '透明性得分': 1.0, '解释效果得分': 1.0}), ({'prediction_model': 'relation_GATs', 'explanation_model': 'inputGradientExplainer', 'start_date': '2022-03-01', 'end_date': '2022-03-10', 'seq_len': 30}, {'可靠性得分': 0.5764312315548406, '稳定性得分': 0.2151918166495066, '鲁棒性得分': 0.0, '透明性得分': 1.0, '解释效果得分': 0.6015428161525734}), ({'prediction_model': 'LSTM', 'explanation_model': 'inputGradientExplainer', 'start_date': '2022-03-01', 'end_date': '2022-03-10', 'seq_len': 60}, {'可靠性得分': 0.9999999999999999, '稳定性得分': 0.20558592917100738, '鲁棒性得分': 0.5382398876648296, '透明性得分': 0.0, '解释效果得分': 0.0}), ({'prediction_model': 'GRU', 'explanation_model': 'inputGradientExplainer', 'start_date': '2022-03-01', 'end_date': '2022-03-10', 'seq_len': 60}, {'可靠性得分': 0.8333445472038007, '稳定性得分': 0.0, '鲁棒性得分': 0.1621049921190192, '透明性得分': 0.0, '解释效果得分': 0.0}), ({'prediction_model': 'MLP', 'explanation_model': 'inputGradientExplainer', 'start_date': '2022-03-01', 'end_date': '2022-03-10', 'seq_len': 60}, {'可靠性得分': 0.0, '稳定性得分': 1.0, '鲁棒性得分': 1.0, '透明性得分': 0.0, '解释效果得分': 0.0}), ({'prediction_model': 'NRSR', 'explanation_model': 'inputGradientExplainer', 'start_date': '2022-03-01', 'end_date': '2022-03-10', 'seq_len': 60}, {'可靠性得分': 0.800120663283993, '稳定性得分': 0.7980980405609168, '鲁棒性得分': 0.26870026714652084, '透明性得分': 1.0, '解释效果得分': 1.0}), ({'prediction_model': 'relation_GATs', 'explanation_model': 'inputGradientExplainer', 'start_date': '2022-03-01', 'end_date': '2022-03-10', 'seq_len': 60}, {'可靠性得分': 0.5764312315548406, '稳定性得分': 0.2151918166495066, '鲁棒性得分': 0.0, '透明性得分': 1.0, '解释效果得分': 0.6015428161525734})]\n"
     ]
    },
    {
     "name": "stderr",
     "output_type": "stream",
     "text": [
      "\n"
     ]
    }
   ],
   "source": [
    "args = parse_args()\n",
    "\n",
    "model_list = ['LSTM', 'GRU', 'MLP', 'NRSR', 'relation_GATs']\n",
    "# model_list = ['NRSR']\n",
    "explanation_model = \"inputGradientExplainer\"\n",
    "seq_len_list = [30, 60]\n",
    "\n",
    "args.start_date = '2022-03-01'\n",
    "args.end_date = '2022-03-10'\n",
    "\n",
    "args.seq_len = 60\n",
    "c_a_r_list = []\n",
    "for seq_len in seq_len_list:\n",
    "    for model in model_list:\n",
    "        h_p_dict = {\n",
    "            \"prediction_model\": model,\n",
    "            \"explanation_model\": explanation_model,\n",
    "            \"start_date\": args.start_date,\n",
    "            \"end_date\": args.end_date,\n",
    "            \"seq_len\": seq_len\n",
    "        }\n",
    "        args.model_name = model\n",
    "        args.seq_len = seq_len\n",
    "\n",
    "        data_loader, param_dict, model = prepare_data_and_model(args)\n",
    "        credibility_assessment_results_dict = run_credibility_assessment(param_dict, data_loader, model,\n",
    "                                                                         explanation_model)\n",
    "\n",
    "        c_a_r_list.append((h_p_dict, credibility_assessment_results_dict))\n",
    "\n",
    "n_c_a_r_list = normalize_assessment_results_list(c_a_r_list, num_selection = 5)\n",
    "\n",
    "print(n_c_a_r_list)"
   ]
  },
  {
   "cell_type": "code",
   "execution_count": 4,
   "id": "fb222fe9-dde9-46e4-a31b-c79d4e543ca6",
   "metadata": {},
   "outputs": [
    {
     "name": "stdout",
     "output_type": "stream",
     "text": [
      "predict in  NRSR\n"
     ]
    },
    {
     "name": "stderr",
     "output_type": "stream",
     "text": [
      "100%|████████████████████████████████████████████████████████████████████████████████████| 8/8 [00:00<00:00, 10.45it/s]"
     ]
    },
    {
     "name": "stdout",
     "output_type": "stream",
     "text": [
      "['002791.SZ', '688169.SH', '002841.SZ']\n"
     ]
    },
    {
     "name": "stderr",
     "output_type": "stream",
     "text": [
      "\n"
     ]
    }
   ],
   "source": [
    "args.model_name = \"NRSR\"\n",
    "explanation_model = \"inputGradientExplainer\"\n",
    "args.seq_len = 60\n",
    "args.num_recommendation_stocks = 3\n",
    "data_loader, param_dict, model = prepare_data_and_model(args)\n",
    "recommend_stocks_list = test_get_stocks_recommendation(param_dict, data_loader, model,\n",
    "                                                       top_n=args.num_recommendation_stocks)  # 输出的是推荐的股票\n",
    "\n",
    "print(recommend_stocks_list)"
   ]
  },
  {
   "cell_type": "code",
   "execution_count": 5,
   "id": "2f721571-6f12-4900-8602-dda22bd10714",
   "metadata": {},
   "outputs": [
    {
     "name": "stdout",
     "output_type": "stream",
     "text": [
      "{'600061.SH': 0.1, '601009.SH': 0.2, '601066.SH': 0.1, '600519.SH': 0.3, '600606.SH': 0.3}\n",
      "600061.SH 证券 48\n",
      "601009.SH 银行 41\n",
      "601066.SH 证券 48\n",
      "600519.SH 酿酒行业 37\n",
      "600606.SH 房地产开发 107\n"
     ]
    },
    {
     "name": "stderr",
     "output_type": "stream",
     "text": [
      "100%|██████████████████████████████████████████████████████████████████████████████████| 48/48 [00:09<00:00,  5.23it/s]\n",
      "100%|██████████████████████████████████████████████████████████████████████████████████| 41/41 [00:07<00:00,  5.43it/s]\n",
      "100%|██████████████████████████████████████████████████████████████████████████████████| 37/37 [00:07<00:00,  5.20it/s]\n",
      "100%|████████████████████████████████████████████████████████████████████████████████| 107/107 [00:21<00:00,  4.94it/s]\n"
     ]
    },
    {
     "name": "stdout",
     "output_type": "stream",
     "text": [
      "------------------------------------------------------------------------------------------\n",
      "------------------------------------------------------------------------------------------\n",
      "600061.SH: 近1天年化收益率位于同行业股票Top33%(16/48), 年化波动率位于同行业股票Top33% (16/48)。\n",
      "600061.SH: 近5天年化收益率位于同行业股票Top66%(32/48), 年化波动率位于同行业股票Top54% (26/48)。\n",
      "601009.SH: 近1天年化收益率位于同行业股票Top68%(28/41), 年化波动率位于同行业股票Top68% (28/41)。\n",
      "601009.SH: 近5天年化收益率位于同行业股票Top21%(9/41), 年化波动率位于同行业股票Top51% (21/41)。\n",
      "601066.SH: 近1天年化收益率位于同行业股票Top10%(5/48), 年化波动率位于同行业股票Top10% (5/48)。\n",
      "601066.SH: 近5天年化收益率位于同行业股票Top93%(45/48), 年化波动率位于同行业股票Top75% (36/48)。\n",
      "600519.SH: 近1天年化收益率位于同行业股票Top32%(12/37), 年化波动率位于同行业股票Top32% (12/37)。\n",
      "600519.SH: 近5天年化收益率位于同行业股票Top13%(5/37), 年化波动率位于同行业股票Top45% (17/37)。\n",
      "600606.SH: 近1天年化收益率位于同行业股票Top44%(48/107), 年化波动率位于同行业股票Top44% (48/107)。\n",
      "600606.SH: 近5天年化收益率位于同行业股票Top84%(90/107), 年化波动率位于同行业股票Top9% (10/107)。\n",
      "{'用户收益偏好得分': 0, '用户风险偏好得分': 8.401130712773167, '用户投资体验感得分': 5, '沪深300指数比较得分': 9.469759049082883, '中证500指数比较得分': 9.261513769552435, '基准比较得分': 6.469759049082883, '同行业股票比较对比得分': 50.293122056413644}\n",
      "{'600061.SH': 0.2, '601009.SH': 0.2, '600887.SH': 0.4, '600132.SH': 0.2}\n",
      "600061.SH 证券 48\n",
      "601009.SH 银行 41\n",
      "600887.SH 食品饮料 106\n",
      "600132.SH 酿酒行业 37\n"
     ]
    },
    {
     "name": "stderr",
     "output_type": "stream",
     "text": [
      "100%|██████████████████████████████████████████████████████████████████████████████████| 48/48 [00:08<00:00,  5.93it/s]\n",
      "100%|██████████████████████████████████████████████████████████████████████████████████| 41/41 [00:09<00:00,  4.31it/s]\n",
      "100%|████████████████████████████████████████████████████████████████████████████████| 106/106 [00:24<00:00,  4.30it/s]\n",
      "100%|██████████████████████████████████████████████████████████████████████████████████| 37/37 [00:08<00:00,  4.53it/s]\n"
     ]
    },
    {
     "name": "stdout",
     "output_type": "stream",
     "text": [
      "------------------------------------------------------------------------------------------\n",
      "------------------------------------------------------------------------------------------\n",
      "600061.SH: 近1天年化收益率位于同行业股票Top33%(16/48), 年化波动率位于同行业股票Top33% (16/48)。\n",
      "600061.SH: 近5天年化收益率位于同行业股票Top66%(32/48), 年化波动率位于同行业股票Top54% (26/48)。\n",
      "601009.SH: 近1天年化收益率位于同行业股票Top68%(28/41), 年化波动率位于同行业股票Top68% (28/41)。\n",
      "601009.SH: 近5天年化收益率位于同行业股票Top21%(9/41), 年化波动率位于同行业股票Top51% (21/41)。\n",
      "600887.SH: 近1天年化收益率位于同行业股票Top95%(100/105), 年化波动率位于同行业股票Top95% (100/105)。\n",
      "600887.SH: 近5天年化收益率位于同行业股票Top50%(53/105), 年化波动率位于同行业股票Top27% (29/105)。\n",
      "600132.SH: 近1天年化收益率位于同行业股票Top27%(10/37), 年化波动率位于同行业股票Top27% (10/37)。\n",
      "600132.SH: 近5天年化收益率位于同行业股票Top97%(36/37), 年化波动率位于同行业股票Top91% (34/37)。\n",
      "{'用户收益偏好得分': 0, '用户风险偏好得分': 8.235850929074163, '用户投资体验感得分': 5, '沪深300指数比较得分': 9.357245494132972, '中证500指数比较得分': 9.121042464519437, '基准比较得分': 6.357245494132973, '同行业股票比较对比得分': 49.94780018672677}\n",
      "{'600010.SH': 0.8, '600132.SH': 0.1, '600489.SH': 0.1}\n",
      "600010.SH 钢铁行业 45\n",
      "600132.SH 酿酒行业 37\n",
      "600489.SH 贵金属 13\n"
     ]
    },
    {
     "name": "stderr",
     "output_type": "stream",
     "text": [
      "100%|██████████████████████████████████████████████████████████████████████████████████| 45/45 [00:09<00:00,  4.82it/s]\n",
      "100%|██████████████████████████████████████████████████████████████████████████████████| 37/37 [00:06<00:00,  5.39it/s]\n",
      "100%|██████████████████████████████████████████████████████████████████████████████████| 13/13 [00:02<00:00,  5.56it/s]\n"
     ]
    },
    {
     "name": "stdout",
     "output_type": "stream",
     "text": [
      "------------------------------------------------------------------------------------------\n",
      "------------------------------------------------------------------------------------------\n",
      "600010.SH: 近1天年化收益率位于同行业股票Top65%(29/44), 年化波动率位于同行业股票Top65% (29/44)。\n",
      "600010.SH: 近5天年化收益率位于同行业股票Top72%(32/44), 年化波动率位于同行业股票Top27% (12/44)。\n",
      "600132.SH: 近1天年化收益率位于同行业股票Top27%(10/37), 年化波动率位于同行业股票Top27% (10/37)。\n",
      "600132.SH: 近5天年化收益率位于同行业股票Top97%(36/37), 年化波动率位于同行业股票Top91% (34/37)。\n",
      "600489.SH: 近1天年化收益率位于同行业股票Top92%(12/13), 年化波动率位于同行业股票Top92% (12/13)。\n",
      "600489.SH: 近5天年化收益率位于同行业股票Top61%(8/13), 年化波动率位于同行业股票Top7% (1/13)。\n",
      "{'用户收益偏好得分': 0, '用户风险偏好得分': 8.449828803073892, '用户投资体验感得分': 5, '沪深300指数比较得分': 8.210689078289509, '中证500指数比较得分': 7.125578736897922, '基准比较得分': 5.210689078289509, '同行业股票比较对比得分': 40.29311399223146}\n",
      "{'600760.SH': 0.3, '600000.SH': 0.2, '600600.SH': 0.2, '601088.SH': 0.3}\n",
      "600760.SH 航天航空 34\n",
      "600000.SH 银行 41\n",
      "600600.SH 酿酒行业 37\n",
      "601088.SH 煤炭行业 34\n"
     ]
    },
    {
     "name": "stderr",
     "output_type": "stream",
     "text": [
      "100%|██████████████████████████████████████████████████████████████████████████████████| 34/34 [00:07<00:00,  4.74it/s]\n",
      "100%|██████████████████████████████████████████████████████████████████████████████████| 41/41 [00:07<00:00,  5.74it/s]\n",
      "100%|██████████████████████████████████████████████████████████████████████████████████| 37/37 [00:07<00:00,  4.91it/s]\n",
      "100%|██████████████████████████████████████████████████████████████████████████████████| 34/34 [00:06<00:00,  4.94it/s]\n"
     ]
    },
    {
     "name": "stdout",
     "output_type": "stream",
     "text": [
      "------------------------------------------------------------------------------------------\n",
      "------------------------------------------------------------------------------------------\n",
      "600760.SH: 近1天年化收益率位于同行业股票Top55%(19/34), 年化波动率位于同行业股票Top55% (19/34)。\n",
      "600760.SH: 近5天年化收益率位于同行业股票Top8%(3/34), 年化波动率位于同行业股票Top67% (23/34)。\n",
      "600000.SH: 近1天年化收益率位于同行业股票Top82%(34/41), 年化波动率位于同行业股票Top82% (34/41)。\n",
      "600000.SH: 近5天年化收益率位于同行业股票Top70%(29/41), 年化波动率位于同行业股票Top41% (17/41)。\n",
      "600600.SH: 近1天年化收益率位于同行业股票Top70%(26/37), 年化波动率位于同行业股票Top70% (26/37)。\n",
      "600600.SH: 近5天年化收益率位于同行业股票Top59%(22/37), 年化波动率位于同行业股票Top94% (35/37)。\n",
      "601088.SH: 近1天年化收益率位于同行业股票Top64%(22/34), 年化波动率位于同行业股票Top64% (22/34)。\n",
      "601088.SH: 近5天年化收益率位于同行业股票Top38%(13/34), 年化波动率位于同行业股票Top61% (21/34)。\n",
      "{'用户收益偏好得分': 0, '用户风险偏好得分': 7.64652934445396, '用户投资体验感得分': 5, '沪深300指数比较得分': 9.793487186501523, '中证500指数比较得分': 9.647301965946879, '基准比较得分': 6.793487186501522, '同行业股票比较对比得分': 30.283939022640002}\n",
      "{'600837.SH': 0.7, '601009.SH': 0.2, '601066.SH': 0.1}\n",
      "600837.SH 证券 48\n",
      "601009.SH 银行 41\n",
      "601066.SH 证券 48\n"
     ]
    },
    {
     "name": "stderr",
     "output_type": "stream",
     "text": [
      "100%|██████████████████████████████████████████████████████████████████████████████████| 48/48 [00:07<00:00,  6.25it/s]\n",
      "100%|██████████████████████████████████████████████████████████████████████████████████| 41/41 [00:08<00:00,  4.98it/s]\n"
     ]
    },
    {
     "name": "stdout",
     "output_type": "stream",
     "text": [
      "------------------------------------------------------------------------------------------\n",
      "------------------------------------------------------------------------------------------\n",
      "600837.SH: 近1天年化收益率位于同行业股票Top77%(37/48), 年化波动率位于同行业股票Top77% (37/48)。\n",
      "600837.SH: 近5天年化收益率位于同行业股票Top56%(27/48), 年化波动率位于同行业股票Top39% (19/48)。\n",
      "601009.SH: 近1天年化收益率位于同行业股票Top68%(28/41), 年化波动率位于同行业股票Top68% (28/41)。\n",
      "601009.SH: 近5天年化收益率位于同行业股票Top21%(9/41), 年化波动率位于同行业股票Top51% (21/41)。\n",
      "601066.SH: 近1天年化收益率位于同行业股票Top10%(5/48), 年化波动率位于同行业股票Top10% (5/48)。\n",
      "601066.SH: 近5天年化收益率位于同行业股票Top93%(45/48), 年化波动率位于同行业股票Top75% (36/48)。\n",
      "{'用户收益偏好得分': 0, '用户风险偏好得分': 8.643855937213651, '用户投资体验感得分': 5, '沪深300指数比较得分': 8.502664704709703, '中证500指数比较得分': 7.820508882514041, '基准比较得分': 5.502664704709703, '同行业股票比较对比得分': 40.29311399223146}\n",
      "{'601009.SH': 0.1, '601066.SH': 0.5, '600132.SH': 0.4}\n",
      "601009.SH 银行 41\n",
      "601066.SH 证券 48\n",
      "600132.SH 酿酒行业 37\n"
     ]
    },
    {
     "name": "stderr",
     "output_type": "stream",
     "text": [
      "100%|██████████████████████████████████████████████████████████████████████████████████| 41/41 [00:06<00:00,  6.16it/s]\n",
      "100%|██████████████████████████████████████████████████████████████████████████████████| 48/48 [00:10<00:00,  4.58it/s]\n",
      "100%|██████████████████████████████████████████████████████████████████████████████████| 37/37 [00:05<00:00,  6.37it/s]\n"
     ]
    },
    {
     "name": "stdout",
     "output_type": "stream",
     "text": [
      "------------------------------------------------------------------------------------------\n",
      "------------------------------------------------------------------------------------------\n",
      "601009.SH: 近1天年化收益率位于同行业股票Top68%(28/41), 年化波动率位于同行业股票Top68% (28/41)。\n",
      "601009.SH: 近5天年化收益率位于同行业股票Top21%(9/41), 年化波动率位于同行业股票Top51% (21/41)。\n",
      "601066.SH: 近1天年化收益率位于同行业股票Top10%(5/48), 年化波动率位于同行业股票Top10% (5/48)。\n",
      "601066.SH: 近5天年化收益率位于同行业股票Top93%(45/48), 年化波动率位于同行业股票Top75% (36/48)。\n",
      "600132.SH: 近1天年化收益率位于同行业股票Top27%(10/37), 年化波动率位于同行业股票Top27% (10/37)。\n",
      "600132.SH: 近5天年化收益率位于同行业股票Top97%(36/37), 年化波动率位于同行业股票Top91% (34/37)。\n",
      "{'用户收益偏好得分': 0, '用户风险偏好得分': 7.605426677203649, '用户投资体验感得分': 5, '沪深300指数比较得分': 9.422893639743915, '中证500指数比较得分': 9.203477882688105, '基准比较得分': 6.422893639743916, '同行业股票比较对比得分': 40.29311399223146}\n",
      "[({'select_dict': {'600061.SH': 0.1, '601009.SH': 0.2, '601066.SH': 0.1, '600519.SH': 0.3, '600606.SH': 0.3}, 'return_preference': 2, 'seq_len': 60, 'start_date': '20220301', 'end_date': '20220310'}, {'用户收益偏好得分': 0.0, '用户风险偏好得分': 0.7662573332745399, '用户投资体验感得分': 0.0, '沪深300指数比较得分': 0.7954709853777029, '中证500指数比较得分': 0.847014060880924, '基准比较得分': 0.7954709853777033, '同行业股票比较对比得分': 1.0}), ({'select_dict': {'600061.SH': 0.2, '601009.SH': 0.2, '600887.SH': 0.4, '600132.SH': 0.2}, 'return_preference': 2, 'seq_len': 60, 'start_date': '20220301', 'end_date': '20220310'}, {'用户收益偏好得分': 0.0, '用户风险偏好得分': 0.607094075781764, '用户投资体验感得分': 0.0, '沪深300指数比较得分': 0.7243857633483373, '中证500指数比较得分': 0.7913095714211607, '基准比较得分': 0.7243857633483377, '同行业股票比较对比得分': 0.9827418306332643}), ({'select_dict': {'600010.SH': 0.8, '600132.SH': 0.1, '600489.SH': 0.1}, 'return_preference': 2, 'seq_len': 60, 'start_date': '20220301', 'end_date': '20220310'}, {'用户收益偏好得分': 0.0, '用户风险偏好得分': 0.813153248264701, '用户投资体验感得分': 0.0, '沪深300指数比较得分': 0.0, '中证500指数比较得分': 0.0, '基准比较得分': 0.0, '同行业股票比较对比得分': 0.5002290674585215}), ({'select_dict': {'600760.SH': 0.3, '600000.SH': 0.2, '600600.SH': 0.2, '601088.SH': 0.3}, 'return_preference': 2, 'seq_len': 60, 'start_date': '20220301', 'end_date': '20220310'}, {'用户收益偏好得分': 0.0, '用户风险偏好得分': 0.03958157655333672, '用户投资体验感得分': 0.0, '沪深300指数比较得分': 1.0, '中证500指数比较得分': 1.0, '基准比较得分': 1.0000000000000004, '同行业股票比较对比得分': 0.0}), ({'select_dict': {'600837.SH': 0.7, '601009.SH': 0.2, '601066.SH': 0.1}, 'return_preference': 2, 'seq_len': 60, 'start_date': '20220301', 'end_date': '20220310'}, {'用户收益偏好得分': 0.0, '用户风险偏好得分': 1.0, '用户投资体验感得分': 0.0, '沪深300指数比较得分': 0.18446801579136363, '中证500指数比较得分': 0.2755774851144963, '基准比较得分': 0.18446801579136407, '同行业股票比较对比得分': 0.5002290674585215}), ({'select_dict': {'601009.SH': 0.1, '601066.SH': 0.5, '600132.SH': 0.4}, 'return_preference': 2, 'seq_len': 60, 'start_date': '20220301', 'end_date': '20220310'}, {'用户收益偏好得分': 0.0, '用户风险偏好得分': 0.0, '用户投资体验感得分': 0.0, '沪深300指数比较得分': 0.7658617704716342, '中证500指数比较得分': 0.8239996847607429, '基准比较得分': 0.7658617704716355, '同行业股票比较对比得分': 0.5002290674585215})]\n"
     ]
    }
   ],
   "source": [
    "select_dict_list = [\n",
    "    {\n",
    "        '600061.SH': 0.1,\n",
    "        '601009.SH': 0.2,\n",
    "        '601066.SH': 0.1,\n",
    "        '600519.SH': 0.3,\n",
    "        '600606.SH': 0.3\n",
    "    },\n",
    "    {\n",
    "        '600061.SH': 0.2,\n",
    "        '601009.SH': 0.2,\n",
    "        '600887.SH': 0.4,\n",
    "        '600132.SH': 0.2,\n",
    "    },\n",
    "    {\n",
    "        '600010.SH': 0.8,\n",
    "        '600132.SH': 0.1,\n",
    "        '600489.SH': 0.1\n",
    "\n",
    "    },\n",
    "    {\n",
    "        '600760.SH': 0.3,\n",
    "        '600000.SH': 0.2,\n",
    "        '600600.SH': 0.2,\n",
    "        '601088.SH': 0.3\n",
    "\n",
    "    },\n",
    "    {\n",
    "        '600837.SH': 0.7,\n",
    "        '601009.SH': 0.2,\n",
    "        '601066.SH': 0.1,\n",
    "\n",
    "    },\n",
    "    {\n",
    "        '601009.SH': 0.1,\n",
    "        '601066.SH': 0.5,\n",
    "        '600132.SH': 0.4\n",
    "    },\n",
    "]\n",
    "\n",
    "    # 下面开始计算性能评价\n",
    "    #更新时间表述\n",
    "args.start_date = args.start_date.replace('-', '')\n",
    "args.end_date = args.end_date.replace('-', '')\n",
    "args.return_preference = 2 # 输入回报偏好\n",
    "args.risk_preference = 60 # 输入风险偏好\n",
    "p_a_r_list = []\n",
    "for select_dict in select_dict_list:\n",
    "    h_p_dict = {\n",
    "                    \"select_dict\": select_dict,\n",
    "                    \"return_preference\": args.return_preference,\n",
    "                    \"seq_len\": args.risk_preference,\n",
    "                    \"start_date\": args.start_date,\n",
    "                    \"end_date\": args.end_date,\n",
    "\n",
    "                }\n",
    "    performance_assessment_results_dict = run_performance_assessment(args, select_dict) # 输出性能得分\n",
    "    print(performance_assessment_results_dict)\n",
    "    p_a_r_list.append((h_p_dict, performance_assessment_results_dict))\n",
    "\n",
    "n_p_a_r_list = normalize_assessment_results_list(p_a_r_list, num_selection=5)\n",
    "print(n_p_a_r_list)"
   ]
  }
 ],
 "metadata": {
  "kernelspec": {
   "display_name": "Python 3 (ipykernel)",
   "language": "python",
   "name": "python3"
  },
  "language_info": {
   "codemirror_mode": {
    "name": "ipython",
    "version": 3
   },
   "file_extension": ".py",
   "mimetype": "text/x-python",
   "name": "python",
   "nbconvert_exporter": "python",
   "pygments_lexer": "ipython3",
   "version": "3.8.19"
  }
 },
 "nbformat": 4,
 "nbformat_minor": 5
}
