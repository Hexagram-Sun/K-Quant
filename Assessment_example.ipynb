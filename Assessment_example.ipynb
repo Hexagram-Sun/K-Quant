{
 "cells": [
  {
   "cell_type": "code",
   "execution_count": 10,
   "id": "96b76cc1-89ec-4851-ab5f-9a411c59c45b",
   "metadata": {},
   "outputs": [],
   "source": [
    "from Assessment.Credibility_assessment import run_credibility_assessment\n",
    "from Assessment.Performance_assessment import run_performance_assessment\n",
    "from Assessment.run_assessment import prepare_data_and_model, test_get_stocks_recommendation\n",
    "from Assessment.utils import parse_args, normalize_assessment_results_list"
   ]
  },
  {
   "cell_type": "code",
   "execution_count": 11,
   "id": "ab3b2aaf-a76d-4904-b6ae-d1c8c6347e56",
   "metadata": {},
   "outputs": [],
   "source": [
    "import argparse\n",
    "from Assessment.utils import ParseConfigFile\n",
    "import sys\n",
    "def parse_args():\n",
    "    parser = argparse.ArgumentParser()\n",
    "\n",
    "    # model\n",
    "    parser.add_argument('--model_name', default='relation_GATs')\n",
    "    parser.add_argument('--model_path', default='D:\\Research\\Fintech\\K-Quant\\parameter')\n",
    "    parser.add_argument('--num_relation', type= int, default=134)\n",
    "    parser.add_argument('--d_feat', type=int, default=6)\n",
    "    parser.add_argument('--hidden_size', type=int, default=128)\n",
    "    parser.add_argument('--num_layers', type=int, default=2)\n",
    "    parser.add_argument('--dropout', type=float, default=0.1)\n",
    "    parser.add_argument('--K', type=int, default=1)\n",
    "    parser.add_argument('--loss_type', default='')\n",
    "    parser.add_argument('--config', action=ParseConfigFile, default='')\n",
    "    # for ts lib model\n",
    "    parser.add_argument('--seq_len', type=int, default=60)\n",
    "    parser.add_argument('--moving_avg', type=int, default=21)\n",
    "    parser.add_argument('--output_attention', action='store_true', help='whether to output attention in ecoder')\n",
    "    parser.add_argument('--embed', type=str, default='timeF',\n",
    "                        help='time features encoding, options:[timeF, fixed, learned]')\n",
    "    parser.add_argument('--freq', type=str, default='b',\n",
    "                        help='freq for time features encoding, options:[s:secondly, t:minutely, h:hourly, d:daily, b:business days, w:weekly, m:monthly], you can also use more detailed freq like 15min or 3h')\n",
    "    parser.add_argument('--distil', action='store_false',\n",
    "                        help='whether to use distilling in encoder, using this argument means not using distilling',\n",
    "                        default=False)\n",
    "    parser.add_argument('--factor', type=int, default=1, help='attn factor')\n",
    "    parser.add_argument('--n_heads', type=int, default=1, help='num of heads')\n",
    "    parser.add_argument('--d_ff', type=int, default=64, help='dimension of fcn')\n",
    "    parser.add_argument('--activation', type=str, default='gelu', help='activation')\n",
    "    parser.add_argument('--e_layers', type=int, default=8, help='num of encoder layers')\n",
    "    parser.add_argument('--top_k', type=int, default=5, help='for TimesBlock')\n",
    "    parser.add_argument('--pred_len', type=int, default=-1, help='the length of pred squence, in regression set to -1')\n",
    "    parser.add_argument('--de_norm', default=True, help='de normalize or not')\n",
    "\n",
    "    # data\n",
    "    parser.add_argument('--data_set', type=str, default='csi360')\n",
    "    parser.add_argument('--target', type=str, default='t+0')\n",
    "    parser.add_argument('--pin_memory', action='store_false', default=True)\n",
    "    parser.add_argument('--batch_size', type=int, default=-1)  # -1 indicate daily batch\n",
    "    parser.add_argument('--least_samples_num', type=float, default=1137.0)\n",
    "    parser.add_argument('--label', default='')  # specify other labels\n",
    "    parser.add_argument('--start_date', default='2019-01-01')\n",
    "    parser.add_argument('--end_date', default='2019-01-05')\n",
    "\n",
    "    # input for csi 300\n",
    "    parser.add_argument('--data_root', default='D:\\Research\\Fintech\\K-Quant\\Data')\n",
    "    parser.add_argument('--market_value_path', default= 'D:\\Research\\Fintech\\K-Quant\\Data\\csi300_market_value_07to20.pkl')\n",
    "\n",
    "    parser.add_argument('--stock2concept_matrix', default='D:\\ProjectCodes\\K-Quant\\Data\\csi300_stock2concept.npy')\n",
    "\n",
    "\n",
    "    parser.add_argument('--stock2stock_matrix', default='D:\\Research\\Fintech\\K-Quant\\Data\\csi300_multi_stock2stock_hidy_2024.npy')\n",
    "    parser.add_argument('--stock_index', default='D:\\Research\\Fintech\\K-Quant\\Data\\csi300_stock_index_2024.npy')\n",
    "    parser.add_argument('--model_dir', default='D:\\Research\\Fintech\\K-Quant\\parameter')\n",
    "    parser.add_argument('--overwrite', action='store_true', default=False)\n",
    "    parser.add_argument('--device', default='cpu')\n",
    "    filtered_args = [arg for arg in sys.argv if not arg.startswith('-f') and not arg.endswith('.json')]\n",
    "    args = parser.parse_args(filtered_args[1:])  # Skip the script name\n",
    "    return args\n",
    "\n",
    "\n"
   ]
  },
  {
   "cell_type": "code",
   "execution_count": 12,
   "id": "4429bedb-59ee-49a3-a841-6117b0606a7d",
   "metadata": {},
   "outputs": [
    {
     "name": "stdout",
     "output_type": "stream",
     "text": [
      "predict in  LSTM\n"
     ]
    },
    {
     "name": "stderr",
     "output_type": "stream",
     "text": [
      "100%|███████████████████████████████████████████████████████████████████████████████████| 8/8 [00:00<00:00, 148.64it/s]\n",
      "100%|███████████████████████████████████████████████████████████████████████████████████| 8/8 [00:00<00:00, 136.04it/s]\n",
      "100%|███████████████████████████████████████████████████████████████████████████████████| 8/8 [00:00<00:00, 123.48it/s]\n"
     ]
    },
    {
     "name": "stdout",
     "output_type": "stream",
     "text": [
      "predict in  GRU\n"
     ]
    },
    {
     "name": "stderr",
     "output_type": "stream",
     "text": [
      "100%|████████████████████████████████████████████████████████████████████████████████████| 8/8 [00:00<00:00, 16.93it/s]\n",
      "100%|████████████████████████████████████████████████████████████████████████████████████| 8/8 [00:00<00:00, 16.72it/s]\n",
      "100%|████████████████████████████████████████████████████████████████████████████████████| 8/8 [00:00<00:00, 16.48it/s]\n"
     ]
    },
    {
     "name": "stdout",
     "output_type": "stream",
     "text": [
      "predict in  MLP\n"
     ]
    },
    {
     "name": "stderr",
     "output_type": "stream",
     "text": [
      "100%|███████████████████████████████████████████████████████████████████████████████████| 8/8 [00:00<00:00, 617.42it/s]\n",
      "100%|███████████████████████████████████████████████████████████████████████████████████| 8/8 [00:00<00:00, 297.28it/s]\n",
      "100%|███████████████████████████████████████████████████████████████████████████████████| 8/8 [00:00<00:00, 297.27it/s]\n"
     ]
    },
    {
     "name": "stdout",
     "output_type": "stream",
     "text": [
      "predict in  NRSR\n"
     ]
    },
    {
     "name": "stderr",
     "output_type": "stream",
     "text": [
      "100%|████████████████████████████████████████████████████████████████████████████████████| 8/8 [00:00<00:00, 13.29it/s]\n",
      "100%|████████████████████████████████████████████████████████████████████████████████████| 8/8 [00:02<00:00,  2.75it/s]\n",
      "100%|████████████████████████████████████████████████████████████████████████████████████| 8/8 [00:00<00:00, 12.09it/s]\n",
      "100%|████████████████████████████████████████████████████████████████████████████████████| 8/8 [00:00<00:00, 12.76it/s]\n"
     ]
    },
    {
     "name": "stdout",
     "output_type": "stream",
     "text": [
      "predict in  relation_GATs\n"
     ]
    },
    {
     "name": "stderr",
     "output_type": "stream",
     "text": [
      "100%|████████████████████████████████████████████████████████████████████████████████████| 8/8 [00:00<00:00, 14.21it/s]\n",
      "100%|████████████████████████████████████████████████████████████████████████████████████| 8/8 [00:02<00:00,  2.91it/s]\n",
      "100%|████████████████████████████████████████████████████████████████████████████████████| 8/8 [00:00<00:00, 12.24it/s]\n",
      "100%|████████████████████████████████████████████████████████████████████████████████████| 8/8 [00:00<00:00, 13.36it/s]\n"
     ]
    },
    {
     "name": "stdout",
     "output_type": "stream",
     "text": [
      "predict in  LSTM\n"
     ]
    },
    {
     "name": "stderr",
     "output_type": "stream",
     "text": [
      "100%|███████████████████████████████████████████████████████████████████████████████████| 8/8 [00:00<00:00, 154.35it/s]\n",
      "100%|████████████████████████████████████████████████████████████████████████████████████| 8/8 [00:00<00:00, 99.09it/s]\n",
      "100%|███████████████████████████████████████████████████████████████████████████████████| 8/8 [00:00<00:00, 148.64it/s]\n"
     ]
    },
    {
     "name": "stdout",
     "output_type": "stream",
     "text": [
      "predict in  GRU\n"
     ]
    },
    {
     "name": "stderr",
     "output_type": "stream",
     "text": [
      "100%|████████████████████████████████████████████████████████████████████████████████████| 8/8 [00:00<00:00, 17.37it/s]\n",
      "100%|████████████████████████████████████████████████████████████████████████████████████| 8/8 [00:00<00:00, 17.22it/s]\n",
      "100%|████████████████████████████████████████████████████████████████████████████████████| 8/8 [00:00<00:00, 17.30it/s]\n"
     ]
    },
    {
     "name": "stdout",
     "output_type": "stream",
     "text": [
      "predict in  MLP\n"
     ]
    },
    {
     "name": "stderr",
     "output_type": "stream",
     "text": [
      "100%|███████████████████████████████████████████████████████████████████████████████████| 8/8 [00:00<00:00, 668.84it/s]\n",
      "100%|███████████████████████████████████████████████████████████████████████████████████| 8/8 [00:00<00:00, 276.77it/s]\n",
      "100%|███████████████████████████████████████████████████████████████████████████████████| 8/8 [00:00<00:00, 321.06it/s]\n"
     ]
    },
    {
     "name": "stdout",
     "output_type": "stream",
     "text": [
      "predict in  NRSR\n"
     ]
    },
    {
     "name": "stderr",
     "output_type": "stream",
     "text": [
      "100%|████████████████████████████████████████████████████████████████████████████████████| 8/8 [00:00<00:00, 13.38it/s]\n",
      "100%|████████████████████████████████████████████████████████████████████████████████████| 8/8 [00:02<00:00,  2.83it/s]\n",
      "100%|████████████████████████████████████████████████████████████████████████████████████| 8/8 [00:00<00:00, 11.12it/s]\n",
      "100%|████████████████████████████████████████████████████████████████████████████████████| 8/8 [00:00<00:00, 11.55it/s]\n"
     ]
    },
    {
     "name": "stdout",
     "output_type": "stream",
     "text": [
      "predict in  relation_GATs\n"
     ]
    },
    {
     "name": "stderr",
     "output_type": "stream",
     "text": [
      "100%|████████████████████████████████████████████████████████████████████████████████████| 8/8 [00:00<00:00, 13.20it/s]\n",
      "100%|████████████████████████████████████████████████████████████████████████████████████| 8/8 [00:03<00:00,  2.59it/s]\n",
      "100%|████████████████████████████████████████████████████████████████████████████████████| 8/8 [00:00<00:00, 11.07it/s]\n",
      "100%|████████████████████████████████████████████████████████████████████████████████████| 8/8 [00:00<00:00, 12.12it/s]"
     ]
    },
    {
     "name": "stdout",
     "output_type": "stream",
     "text": [
      "[({'prediction_model': 'LSTM', 'explanation_model': 'inputGradientExplainer', 'start_date': '2022-03-01', 'end_date': '2022-03-10', 'seq_len': 30}, {'可靠性得分': 0.9999999999999999, '稳定性得分': 0.20558592917100738, '鲁棒性得分': 0.5382398876648296, '透明性得分': 0.0, '解释效果得分': 0.0}), ({'prediction_model': 'GRU', 'explanation_model': 'inputGradientExplainer', 'start_date': '2022-03-01', 'end_date': '2022-03-10', 'seq_len': 30}, {'可靠性得分': 0.8333445472038007, '稳定性得分': 0.0, '鲁棒性得分': 0.1621049921190192, '透明性得分': 0.0, '解释效果得分': 0.0}), ({'prediction_model': 'MLP', 'explanation_model': 'inputGradientExplainer', 'start_date': '2022-03-01', 'end_date': '2022-03-10', 'seq_len': 30}, {'可靠性得分': 0.0, '稳定性得分': 1.0, '鲁棒性得分': 1.0, '透明性得分': 0.0, '解释效果得分': 0.0}), ({'prediction_model': 'NRSR', 'explanation_model': 'inputGradientExplainer', 'start_date': '2022-03-01', 'end_date': '2022-03-10', 'seq_len': 30}, {'可靠性得分': 0.800120663283993, '稳定性得分': 0.7980980405609168, '鲁棒性得分': 0.26870026714652084, '透明性得分': 1.0, '解释效果得分': 1.0}), ({'prediction_model': 'relation_GATs', 'explanation_model': 'inputGradientExplainer', 'start_date': '2022-03-01', 'end_date': '2022-03-10', 'seq_len': 30}, {'可靠性得分': 0.5764312315548406, '稳定性得分': 0.2151918166495066, '鲁棒性得分': 0.0, '透明性得分': 1.0, '解释效果得分': 0.6015428161525734}), ({'prediction_model': 'LSTM', 'explanation_model': 'inputGradientExplainer', 'start_date': '2022-03-01', 'end_date': '2022-03-10', 'seq_len': 60}, {'可靠性得分': 0.9999999999999999, '稳定性得分': 0.20558592917100738, '鲁棒性得分': 0.5382398876648296, '透明性得分': 0.0, '解释效果得分': 0.0}), ({'prediction_model': 'GRU', 'explanation_model': 'inputGradientExplainer', 'start_date': '2022-03-01', 'end_date': '2022-03-10', 'seq_len': 60}, {'可靠性得分': 0.8333445472038007, '稳定性得分': 0.0, '鲁棒性得分': 0.1621049921190192, '透明性得分': 0.0, '解释效果得分': 0.0}), ({'prediction_model': 'MLP', 'explanation_model': 'inputGradientExplainer', 'start_date': '2022-03-01', 'end_date': '2022-03-10', 'seq_len': 60}, {'可靠性得分': 0.0, '稳定性得分': 1.0, '鲁棒性得分': 1.0, '透明性得分': 0.0, '解释效果得分': 0.0}), ({'prediction_model': 'NRSR', 'explanation_model': 'inputGradientExplainer', 'start_date': '2022-03-01', 'end_date': '2022-03-10', 'seq_len': 60}, {'可靠性得分': 0.800120663283993, '稳定性得分': 0.7980980405609168, '鲁棒性得分': 0.26870026714652084, '透明性得分': 1.0, '解释效果得分': 1.0}), ({'prediction_model': 'relation_GATs', 'explanation_model': 'inputGradientExplainer', 'start_date': '2022-03-01', 'end_date': '2022-03-10', 'seq_len': 60}, {'可靠性得分': 0.5764312315548406, '稳定性得分': 0.2151918166495066, '鲁棒性得分': 0.0, '透明性得分': 1.0, '解释效果得分': 0.6015428161525734})]\n"
     ]
    },
    {
     "name": "stderr",
     "output_type": "stream",
     "text": [
      "\n"
     ]
    }
   ],
   "source": [
    "args = parse_args()\n",
    "\n",
    "model_list = ['LSTM', 'GRU', 'MLP', 'NRSR', 'relation_GATs']\n",
    "# model_list = ['NRSR']\n",
    "explanation_model = \"inputGradientExplainer\"\n",
    "seq_len_list = [30, 60]\n",
    "\n",
    "args.start_date = '2022-03-01'\n",
    "args.end_date = '2022-03-10'\n",
    "\n",
    "args.seq_len = 60\n",
    "c_a_r_list = []\n",
    "for seq_len in seq_len_list:\n",
    "    for model in model_list:\n",
    "        h_p_dict = {\n",
    "            \"prediction_model\": model,\n",
    "            \"explanation_model\": explanation_model,\n",
    "            \"start_date\": args.start_date,\n",
    "            \"end_date\": args.end_date,\n",
    "            \"seq_len\": seq_len\n",
    "        }\n",
    "        args.model_name = model\n",
    "        args.seq_len = seq_len\n",
    "\n",
    "        data_loader, param_dict, model = prepare_data_and_model(args)\n",
    "        credibility_assessment_results_dict = run_credibility_assessment(param_dict, data_loader, model,\n",
    "                                                                         explanation_model)\n",
    "\n",
    "        c_a_r_list.append((h_p_dict, credibility_assessment_results_dict))\n",
    "\n",
    "n_c_a_r_list = normalize_assessment_results_list(c_a_r_list, num_selection = 5)\n",
    "\n",
    "print(n_c_a_r_list)"
   ]
  },
  {
   "cell_type": "code",
   "execution_count": 13,
   "id": "fb222fe9-dde9-46e4-a31b-c79d4e543ca6",
   "metadata": {},
   "outputs": [
    {
     "name": "stdout",
     "output_type": "stream",
     "text": [
      "predict in  NRSR\n"
     ]
    },
    {
     "name": "stderr",
     "output_type": "stream",
     "text": [
      "100%|████████████████████████████████████████████████████████████████████████████████████| 8/8 [00:00<00:00, 12.33it/s]"
     ]
    },
    {
     "name": "stdout",
     "output_type": "stream",
     "text": [
      "['002791.SZ', '688169.SH', '002841.SZ']\n"
     ]
    },
    {
     "name": "stderr",
     "output_type": "stream",
     "text": [
      "\n"
     ]
    }
   ],
   "source": [
    "args.model_name = \"NRSR\"\n",
    "explanation_model = \"inputGradientExplainer\"\n",
    "args.seq_len = 60\n",
    "args.num_recommendation_stocks = 3\n",
    "data_loader, param_dict, model = prepare_data_and_model(args)\n",
    "recommend_stocks_list = test_get_stocks_recommendation(param_dict, data_loader, model,\n",
    "                                                       top_n=args.num_recommendation_stocks)  # 输出的是推荐的股票\n",
    "\n",
    "print(recommend_stocks_list)"
   ]
  },
  {
   "cell_type": "code",
   "execution_count": 14,
   "id": "2f721571-6f12-4900-8602-dda22bd10714",
   "metadata": {},
   "outputs": [
    {
     "name": "stdout",
     "output_type": "stream",
     "text": [
      "{'600061.SH': 0.1, '601009.SH': 0.2, '601066.SH': 0.1, '600519.SH': 0.3, '600606.SH': 0.3}\n"
     ]
    },
    {
     "ename": "FileNotFoundError",
     "evalue": "[Errno 2] No such file or directory: '../Data/Assessement_data/em_hs_basic_info.json'",
     "output_type": "error",
     "traceback": [
      "\u001b[1;31m---------------------------------------------------------------------------\u001b[0m",
      "\u001b[1;31mFileNotFoundError\u001b[0m                         Traceback (most recent call last)",
      "Cell \u001b[1;32mIn[14], line 57\u001b[0m\n\u001b[0;32m     48\u001b[0m \u001b[38;5;28;01mfor\u001b[39;00m select_dict \u001b[38;5;129;01min\u001b[39;00m select_dict_list:\n\u001b[0;32m     49\u001b[0m     h_p_dict \u001b[38;5;241m=\u001b[39m {\n\u001b[0;32m     50\u001b[0m                     \u001b[38;5;124m\"\u001b[39m\u001b[38;5;124mselect_dict\u001b[39m\u001b[38;5;124m\"\u001b[39m: select_dict,\n\u001b[0;32m     51\u001b[0m                     \u001b[38;5;124m\"\u001b[39m\u001b[38;5;124mreturn_preference\u001b[39m\u001b[38;5;124m\"\u001b[39m: args\u001b[38;5;241m.\u001b[39mreturn_preference,\n\u001b[1;32m   (...)\u001b[0m\n\u001b[0;32m     55\u001b[0m \n\u001b[0;32m     56\u001b[0m                 }\n\u001b[1;32m---> 57\u001b[0m     performance_assessment_results_dict \u001b[38;5;241m=\u001b[39m \u001b[43mrun_performance_assessment\u001b[49m\u001b[43m(\u001b[49m\u001b[43margs\u001b[49m\u001b[43m,\u001b[49m\u001b[43m \u001b[49m\u001b[43mselect_dict\u001b[49m\u001b[43m)\u001b[49m \u001b[38;5;66;03m# 输出性能得分\u001b[39;00m\n\u001b[0;32m     58\u001b[0m     \u001b[38;5;28mprint\u001b[39m(performance_assessment_results_dict)\n\u001b[0;32m     59\u001b[0m     p_a_r_list\u001b[38;5;241m.\u001b[39mappend((h_p_dict, performance_assessment_results_dict))\n",
      "File \u001b[1;32mD:\\Research\\Fintech\\K-Quant\\Assessment\\Performance_assessment.py:13\u001b[0m, in \u001b[0;36mrun_performance_assessment\u001b[1;34m(args, select_dic)\u001b[0m\n\u001b[0;32m     10\u001b[0m \u001b[38;5;28;01mdef\u001b[39;00m \u001b[38;5;21mrun_performance_assessment\u001b[39m(args, select_dic):\n\u001b[0;32m     11\u001b[0m     C \u001b[38;5;241m=\u001b[39m Get_Score(select_dic, score_dic, args\u001b[38;5;241m.\u001b[39mreturn_preference, args\u001b[38;5;241m.\u001b[39mrisk_preference, args\u001b[38;5;241m.\u001b[39mstart_date, args\u001b[38;5;241m.\u001b[39mend_date, args\u001b[38;5;241m.\u001b[39mstart_date, args\u001b[38;5;241m.\u001b[39mend_date,\n\u001b[0;32m     12\u001b[0m                   Astock_file, hs300_file, csi500_file)\n\u001b[1;32m---> 13\u001b[0m     performance_assessment_results_dict \u001b[38;5;241m=\u001b[39m \u001b[43mC\u001b[49m\u001b[38;5;241;43m.\u001b[39;49m\u001b[43mcal_performance_assessment\u001b[49m\u001b[43m(\u001b[49m\u001b[43m)\u001b[49m\n\u001b[0;32m     15\u001b[0m     \u001b[38;5;28;01mreturn\u001b[39;00m performance_assessment_results_dict\n",
      "File \u001b[1;32mD:\\Research\\Fintech\\K-Quant\\Rating\\risk_return_assessment.py:746\u001b[0m, in \u001b[0;36mGet_Score.cal_performance_assessment\u001b[1;34m(self)\u001b[0m\n\u001b[0;32m    743\u001b[0m \u001b[38;5;28mprint\u001b[39m(\u001b[38;5;28mself\u001b[39m\u001b[38;5;241m.\u001b[39mselect_dic)\n\u001b[0;32m    744\u001b[0m \u001b[38;5;66;03m# 读取\u001b[39;00m\n\u001b[1;32m--> 746\u001b[0m js \u001b[38;5;241m=\u001b[39m json\u001b[38;5;241m.\u001b[39mload(\u001b[38;5;28;43mopen\u001b[39;49m\u001b[43m(\u001b[49m\u001b[38;5;28;43mself\u001b[39;49m\u001b[38;5;241;43m.\u001b[39;49m\u001b[43mAstock_file\u001b[49m\u001b[43m,\u001b[49m\u001b[43m \u001b[49m\u001b[38;5;124;43m\"\u001b[39;49m\u001b[38;5;124;43mr\u001b[39;49m\u001b[38;5;124;43m\"\u001b[39;49m\u001b[43m,\u001b[49m\u001b[43m \u001b[49m\u001b[43mencoding\u001b[49m\u001b[38;5;241;43m=\u001b[39;49m\u001b[38;5;124;43m'\u001b[39;49m\u001b[38;5;124;43mutf-8\u001b[39;49m\u001b[38;5;124;43m'\u001b[39;49m\u001b[43m)\u001b[49m)\n\u001b[0;32m    747\u001b[0m l \u001b[38;5;241m=\u001b[39m [[i[\u001b[38;5;124m'\u001b[39m\u001b[38;5;124mcode\u001b[39m\u001b[38;5;124m'\u001b[39m], i[\u001b[38;5;124m'\u001b[39m\u001b[38;5;124m行业\u001b[39m\u001b[38;5;124m'\u001b[39m], i[\u001b[38;5;124m'\u001b[39m\u001b[38;5;124m股票简称\u001b[39m\u001b[38;5;124m'\u001b[39m]] \u001b[38;5;28;01mfor\u001b[39;00m i \u001b[38;5;129;01min\u001b[39;00m js]\n\u001b[0;32m    748\u001b[0m Astock \u001b[38;5;241m=\u001b[39m pd\u001b[38;5;241m.\u001b[39mDataFrame(l)\n",
      "\u001b[1;31mFileNotFoundError\u001b[0m: [Errno 2] No such file or directory: '../Data/Assessement_data/em_hs_basic_info.json'"
     ]
    }
   ],
   "source": [
    "select_dict_list = [\n",
    "    {\n",
    "        '600061.SH': 0.1,\n",
    "        '601009.SH': 0.2,\n",
    "        '601066.SH': 0.1,\n",
    "        '600519.SH': 0.3,\n",
    "        '600606.SH': 0.3\n",
    "    },\n",
    "    {\n",
    "        '600061.SH': 0.2,\n",
    "        '601009.SH': 0.2,\n",
    "        '600887.SH': 0.4,\n",
    "        '600132.SH': 0.2,\n",
    "    },\n",
    "    {\n",
    "        '600010.SH': 0.8,\n",
    "        '600132.SH': 0.1,\n",
    "        '600489.SH': 0.1\n",
    "\n",
    "    },\n",
    "    {\n",
    "        '600760.SH': 0.3,\n",
    "        '600000.SH': 0.2,\n",
    "        '600600.SH': 0.2,\n",
    "        '601088.SH': 0.3\n",
    "\n",
    "    },\n",
    "    {\n",
    "        '600837.SH': 0.7,\n",
    "        '601009.SH': 0.2,\n",
    "        '601066.SH': 0.1,\n",
    "\n",
    "    },\n",
    "    {\n",
    "        '601009.SH': 0.1,\n",
    "        '601066.SH': 0.5,\n",
    "        '600132.SH': 0.4\n",
    "    },\n",
    "]\n",
    "\n",
    "    # 下面开始计算性能评价\n",
    "    #更新时间表述\n",
    "args.start_date = args.start_date.replace('-', '')\n",
    "args.end_date = args.end_date.replace('-', '')\n",
    "args.return_preference = 2 # 输入回报偏好\n",
    "args.risk_preference = 60 # 输入风险偏好\n",
    "p_a_r_list = []\n",
    "for select_dict in select_dict_list:\n",
    "    h_p_dict = {\n",
    "                    \"select_dict\": select_dict,\n",
    "                    \"return_preference\": args.return_preference,\n",
    "                    \"seq_len\": args.risk_preference,\n",
    "                    \"start_date\": args.start_date,\n",
    "                    \"end_date\": args.end_date,\n",
    "\n",
    "                }\n",
    "    performance_assessment_results_dict = run_performance_assessment(args, select_dict) # 输出性能得分\n",
    "    print(performance_assessment_results_dict)\n",
    "    p_a_r_list.append((h_p_dict, performance_assessment_results_dict))\n",
    "\n",
    "n_p_a_r_list = normalize_assessment_results_list(p_a_r_list, num_selection=5)\n",
    "print(n_p_a_r_list)"
   ]
  }
 ],
 "metadata": {
  "kernelspec": {
   "display_name": "Python 3 (ipykernel)",
   "language": "python",
   "name": "python3"
  },
  "language_info": {
   "codemirror_mode": {
    "name": "ipython",
    "version": 3
   },
   "file_extension": ".py",
   "mimetype": "text/x-python",
   "name": "python",
   "nbconvert_exporter": "python",
   "pygments_lexer": "ipython3",
   "version": "3.8.19"
  }
 },
 "nbformat": 4,
 "nbformat_minor": 5
}
